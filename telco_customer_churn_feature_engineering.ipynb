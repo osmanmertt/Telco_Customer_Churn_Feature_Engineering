{
 "cells": [
  {
   "cell_type": "markdown",
   "metadata": {
    "papermill": {
     "duration": 0.024925,
     "end_time": "2022-11-30T09:14:09.774134",
     "exception": false,
     "start_time": "2022-11-30T09:14:09.749209",
     "status": "completed"
    },
    "tags": []
   },
   "source": [
    "# First Look to Dataset"
   ]
  },
  {
   "cell_type": "code",
   "execution_count": 1,
   "metadata": {
    "execution": {
     "iopub.execute_input": "2022-11-30T09:14:09.826717Z",
     "iopub.status.busy": "2022-11-30T09:14:09.825905Z",
     "iopub.status.idle": "2022-11-30T09:14:11.545246Z",
     "shell.execute_reply": "2022-11-30T09:14:11.543785Z"
    },
    "papermill": {
     "duration": 1.750155,
     "end_time": "2022-11-30T09:14:11.548462",
     "exception": false,
     "start_time": "2022-11-30T09:14:09.798307",
     "status": "completed"
    },
    "tags": []
   },
   "outputs": [],
   "source": [
    "import numpy as np\n",
    "import pandas as pd\n",
    "import matplotlib.pyplot as plt\n",
    "import seaborn as sns\n",
    "from sklearn.preprocessing import LabelEncoder, RobustScaler\n",
    "from sklearn.model_selection import train_test_split\n",
    "from sklearn.ensemble import RandomForestClassifier\n",
    "from sklearn.metrics import accuracy_score\n",
    "pd.set_option('display.max_columns', None)"
   ]
  },
  {
   "cell_type": "code",
   "execution_count": 2,
   "metadata": {
    "execution": {
     "iopub.execute_input": "2022-11-30T09:14:11.601531Z",
     "iopub.status.busy": "2022-11-30T09:14:11.600997Z",
     "iopub.status.idle": "2022-11-30T09:14:11.670046Z",
     "shell.execute_reply": "2022-11-30T09:14:11.668668Z"
    },
    "papermill": {
     "duration": 0.098956,
     "end_time": "2022-11-30T09:14:11.673428",
     "exception": false,
     "start_time": "2022-11-30T09:14:11.574472",
     "status": "completed"
    },
    "tags": []
   },
   "outputs": [],
   "source": [
    "df_ = pd.read_csv(\"/kaggle/input/telco-customer-churn/WA_Fn-UseC_-Telco-Customer-Churn.csv\")\n",
    "\n",
    "df = df_.copy()"
   ]
  },
  {
   "cell_type": "code",
   "execution_count": 3,
   "metadata": {
    "execution": {
     "iopub.execute_input": "2022-11-30T09:14:11.728742Z",
     "iopub.status.busy": "2022-11-30T09:14:11.727497Z",
     "iopub.status.idle": "2022-11-30T09:14:11.765205Z",
     "shell.execute_reply": "2022-11-30T09:14:11.763884Z"
    },
    "papermill": {
     "duration": 0.068643,
     "end_time": "2022-11-30T09:14:11.768852",
     "exception": false,
     "start_time": "2022-11-30T09:14:11.700209",
     "status": "completed"
    },
    "tags": []
   },
   "outputs": [
    {
     "data": {
      "text/html": [
       "<div>\n",
       "<style scoped>\n",
       "    .dataframe tbody tr th:only-of-type {\n",
       "        vertical-align: middle;\n",
       "    }\n",
       "\n",
       "    .dataframe tbody tr th {\n",
       "        vertical-align: top;\n",
       "    }\n",
       "\n",
       "    .dataframe thead th {\n",
       "        text-align: right;\n",
       "    }\n",
       "</style>\n",
       "<table border=\"1\" class=\"dataframe\">\n",
       "  <thead>\n",
       "    <tr style=\"text-align: right;\">\n",
       "      <th></th>\n",
       "      <th>customerID</th>\n",
       "      <th>gender</th>\n",
       "      <th>SeniorCitizen</th>\n",
       "      <th>Partner</th>\n",
       "      <th>Dependents</th>\n",
       "      <th>tenure</th>\n",
       "      <th>PhoneService</th>\n",
       "      <th>MultipleLines</th>\n",
       "      <th>InternetService</th>\n",
       "      <th>OnlineSecurity</th>\n",
       "      <th>OnlineBackup</th>\n",
       "      <th>DeviceProtection</th>\n",
       "      <th>TechSupport</th>\n",
       "      <th>StreamingTV</th>\n",
       "      <th>StreamingMovies</th>\n",
       "      <th>Contract</th>\n",
       "      <th>PaperlessBilling</th>\n",
       "      <th>PaymentMethod</th>\n",
       "      <th>MonthlyCharges</th>\n",
       "      <th>TotalCharges</th>\n",
       "      <th>Churn</th>\n",
       "    </tr>\n",
       "  </thead>\n",
       "  <tbody>\n",
       "    <tr>\n",
       "      <th>0</th>\n",
       "      <td>7590-VHVEG</td>\n",
       "      <td>Female</td>\n",
       "      <td>0</td>\n",
       "      <td>Yes</td>\n",
       "      <td>No</td>\n",
       "      <td>1</td>\n",
       "      <td>No</td>\n",
       "      <td>No phone service</td>\n",
       "      <td>DSL</td>\n",
       "      <td>No</td>\n",
       "      <td>Yes</td>\n",
       "      <td>No</td>\n",
       "      <td>No</td>\n",
       "      <td>No</td>\n",
       "      <td>No</td>\n",
       "      <td>Month-to-month</td>\n",
       "      <td>Yes</td>\n",
       "      <td>Electronic check</td>\n",
       "      <td>29.85</td>\n",
       "      <td>29.85</td>\n",
       "      <td>No</td>\n",
       "    </tr>\n",
       "    <tr>\n",
       "      <th>1</th>\n",
       "      <td>5575-GNVDE</td>\n",
       "      <td>Male</td>\n",
       "      <td>0</td>\n",
       "      <td>No</td>\n",
       "      <td>No</td>\n",
       "      <td>34</td>\n",
       "      <td>Yes</td>\n",
       "      <td>No</td>\n",
       "      <td>DSL</td>\n",
       "      <td>Yes</td>\n",
       "      <td>No</td>\n",
       "      <td>Yes</td>\n",
       "      <td>No</td>\n",
       "      <td>No</td>\n",
       "      <td>No</td>\n",
       "      <td>One year</td>\n",
       "      <td>No</td>\n",
       "      <td>Mailed check</td>\n",
       "      <td>56.95</td>\n",
       "      <td>1889.5</td>\n",
       "      <td>No</td>\n",
       "    </tr>\n",
       "    <tr>\n",
       "      <th>2</th>\n",
       "      <td>3668-QPYBK</td>\n",
       "      <td>Male</td>\n",
       "      <td>0</td>\n",
       "      <td>No</td>\n",
       "      <td>No</td>\n",
       "      <td>2</td>\n",
       "      <td>Yes</td>\n",
       "      <td>No</td>\n",
       "      <td>DSL</td>\n",
       "      <td>Yes</td>\n",
       "      <td>Yes</td>\n",
       "      <td>No</td>\n",
       "      <td>No</td>\n",
       "      <td>No</td>\n",
       "      <td>No</td>\n",
       "      <td>Month-to-month</td>\n",
       "      <td>Yes</td>\n",
       "      <td>Mailed check</td>\n",
       "      <td>53.85</td>\n",
       "      <td>108.15</td>\n",
       "      <td>Yes</td>\n",
       "    </tr>\n",
       "    <tr>\n",
       "      <th>3</th>\n",
       "      <td>7795-CFOCW</td>\n",
       "      <td>Male</td>\n",
       "      <td>0</td>\n",
       "      <td>No</td>\n",
       "      <td>No</td>\n",
       "      <td>45</td>\n",
       "      <td>No</td>\n",
       "      <td>No phone service</td>\n",
       "      <td>DSL</td>\n",
       "      <td>Yes</td>\n",
       "      <td>No</td>\n",
       "      <td>Yes</td>\n",
       "      <td>Yes</td>\n",
       "      <td>No</td>\n",
       "      <td>No</td>\n",
       "      <td>One year</td>\n",
       "      <td>No</td>\n",
       "      <td>Bank transfer (automatic)</td>\n",
       "      <td>42.30</td>\n",
       "      <td>1840.75</td>\n",
       "      <td>No</td>\n",
       "    </tr>\n",
       "    <tr>\n",
       "      <th>4</th>\n",
       "      <td>9237-HQITU</td>\n",
       "      <td>Female</td>\n",
       "      <td>0</td>\n",
       "      <td>No</td>\n",
       "      <td>No</td>\n",
       "      <td>2</td>\n",
       "      <td>Yes</td>\n",
       "      <td>No</td>\n",
       "      <td>Fiber optic</td>\n",
       "      <td>No</td>\n",
       "      <td>No</td>\n",
       "      <td>No</td>\n",
       "      <td>No</td>\n",
       "      <td>No</td>\n",
       "      <td>No</td>\n",
       "      <td>Month-to-month</td>\n",
       "      <td>Yes</td>\n",
       "      <td>Electronic check</td>\n",
       "      <td>70.70</td>\n",
       "      <td>151.65</td>\n",
       "      <td>Yes</td>\n",
       "    </tr>\n",
       "  </tbody>\n",
       "</table>\n",
       "</div>"
      ],
      "text/plain": [
       "   customerID  gender  SeniorCitizen Partner Dependents  tenure PhoneService  \\\n",
       "0  7590-VHVEG  Female              0     Yes         No       1           No   \n",
       "1  5575-GNVDE    Male              0      No         No      34          Yes   \n",
       "2  3668-QPYBK    Male              0      No         No       2          Yes   \n",
       "3  7795-CFOCW    Male              0      No         No      45           No   \n",
       "4  9237-HQITU  Female              0      No         No       2          Yes   \n",
       "\n",
       "      MultipleLines InternetService OnlineSecurity OnlineBackup  \\\n",
       "0  No phone service             DSL             No          Yes   \n",
       "1                No             DSL            Yes           No   \n",
       "2                No             DSL            Yes          Yes   \n",
       "3  No phone service             DSL            Yes           No   \n",
       "4                No     Fiber optic             No           No   \n",
       "\n",
       "  DeviceProtection TechSupport StreamingTV StreamingMovies        Contract  \\\n",
       "0               No          No          No              No  Month-to-month   \n",
       "1              Yes          No          No              No        One year   \n",
       "2               No          No          No              No  Month-to-month   \n",
       "3              Yes         Yes          No              No        One year   \n",
       "4               No          No          No              No  Month-to-month   \n",
       "\n",
       "  PaperlessBilling              PaymentMethod  MonthlyCharges TotalCharges  \\\n",
       "0              Yes           Electronic check           29.85        29.85   \n",
       "1               No               Mailed check           56.95       1889.5   \n",
       "2              Yes               Mailed check           53.85       108.15   \n",
       "3               No  Bank transfer (automatic)           42.30      1840.75   \n",
       "4              Yes           Electronic check           70.70       151.65   \n",
       "\n",
       "  Churn  \n",
       "0    No  \n",
       "1    No  \n",
       "2   Yes  \n",
       "3    No  \n",
       "4   Yes  "
      ]
     },
     "execution_count": 3,
     "metadata": {},
     "output_type": "execute_result"
    }
   ],
   "source": [
    "df.head()"
   ]
  },
  {
   "cell_type": "code",
   "execution_count": 4,
   "metadata": {
    "execution": {
     "iopub.execute_input": "2022-11-30T09:14:11.824608Z",
     "iopub.status.busy": "2022-11-30T09:14:11.823489Z",
     "iopub.status.idle": "2022-11-30T09:14:11.831447Z",
     "shell.execute_reply": "2022-11-30T09:14:11.830121Z"
    },
    "papermill": {
     "duration": 0.038802,
     "end_time": "2022-11-30T09:14:11.834126",
     "exception": false,
     "start_time": "2022-11-30T09:14:11.795324",
     "status": "completed"
    },
    "tags": []
   },
   "outputs": [
    {
     "data": {
      "text/plain": [
       "(7043, 21)"
      ]
     },
     "execution_count": 4,
     "metadata": {},
     "output_type": "execute_result"
    }
   ],
   "source": [
    "df.shape"
   ]
  },
  {
   "cell_type": "code",
   "execution_count": 5,
   "metadata": {
    "execution": {
     "iopub.execute_input": "2022-11-30T09:14:11.886968Z",
     "iopub.status.busy": "2022-11-30T09:14:11.886496Z",
     "iopub.status.idle": "2022-11-30T09:14:11.924031Z",
     "shell.execute_reply": "2022-11-30T09:14:11.921859Z"
    },
    "papermill": {
     "duration": 0.067911,
     "end_time": "2022-11-30T09:14:11.927437",
     "exception": false,
     "start_time": "2022-11-30T09:14:11.859526",
     "status": "completed"
    },
    "tags": []
   },
   "outputs": [
    {
     "name": "stdout",
     "output_type": "stream",
     "text": [
      "<class 'pandas.core.frame.DataFrame'>\n",
      "RangeIndex: 7043 entries, 0 to 7042\n",
      "Data columns (total 21 columns):\n",
      " #   Column            Non-Null Count  Dtype  \n",
      "---  ------            --------------  -----  \n",
      " 0   customerID        7043 non-null   object \n",
      " 1   gender            7043 non-null   object \n",
      " 2   SeniorCitizen     7043 non-null   int64  \n",
      " 3   Partner           7043 non-null   object \n",
      " 4   Dependents        7043 non-null   object \n",
      " 5   tenure            7043 non-null   int64  \n",
      " 6   PhoneService      7043 non-null   object \n",
      " 7   MultipleLines     7043 non-null   object \n",
      " 8   InternetService   7043 non-null   object \n",
      " 9   OnlineSecurity    7043 non-null   object \n",
      " 10  OnlineBackup      7043 non-null   object \n",
      " 11  DeviceProtection  7043 non-null   object \n",
      " 12  TechSupport       7043 non-null   object \n",
      " 13  StreamingTV       7043 non-null   object \n",
      " 14  StreamingMovies   7043 non-null   object \n",
      " 15  Contract          7043 non-null   object \n",
      " 16  PaperlessBilling  7043 non-null   object \n",
      " 17  PaymentMethod     7043 non-null   object \n",
      " 18  MonthlyCharges    7043 non-null   float64\n",
      " 19  TotalCharges      7043 non-null   object \n",
      " 20  Churn             7043 non-null   object \n",
      "dtypes: float64(1), int64(2), object(18)\n",
      "memory usage: 1.1+ MB\n"
     ]
    }
   ],
   "source": [
    "df.info()"
   ]
  },
  {
   "cell_type": "code",
   "execution_count": 6,
   "metadata": {
    "execution": {
     "iopub.execute_input": "2022-11-30T09:14:11.980061Z",
     "iopub.status.busy": "2022-11-30T09:14:11.979636Z",
     "iopub.status.idle": "2022-11-30T09:14:11.989704Z",
     "shell.execute_reply": "2022-11-30T09:14:11.988471Z"
    },
    "papermill": {
     "duration": 0.039646,
     "end_time": "2022-11-30T09:14:11.992654",
     "exception": false,
     "start_time": "2022-11-30T09:14:11.953008",
     "status": "completed"
    },
    "tags": []
   },
   "outputs": [],
   "source": [
    "df[\"TotalCharges\"] = pd.to_numeric(df[\"TotalCharges\"], errors='coerce')"
   ]
  },
  {
   "cell_type": "code",
   "execution_count": 7,
   "metadata": {
    "execution": {
     "iopub.execute_input": "2022-11-30T09:14:12.049671Z",
     "iopub.status.busy": "2022-11-30T09:14:12.048614Z",
     "iopub.status.idle": "2022-11-30T09:14:12.055991Z",
     "shell.execute_reply": "2022-11-30T09:14:12.054677Z"
    },
    "papermill": {
     "duration": 0.039156,
     "end_time": "2022-11-30T09:14:12.058634",
     "exception": false,
     "start_time": "2022-11-30T09:14:12.019478",
     "status": "completed"
    },
    "tags": []
   },
   "outputs": [
    {
     "data": {
      "text/plain": [
       "numpy.float64"
      ]
     },
     "execution_count": 7,
     "metadata": {},
     "output_type": "execute_result"
    }
   ],
   "source": [
    "type(df[\"TotalCharges\"][0])"
   ]
  },
  {
   "cell_type": "code",
   "execution_count": 8,
   "metadata": {
    "execution": {
     "iopub.execute_input": "2022-11-30T09:14:12.114303Z",
     "iopub.status.busy": "2022-11-30T09:14:12.113528Z",
     "iopub.status.idle": "2022-11-30T09:14:12.130333Z",
     "shell.execute_reply": "2022-11-30T09:14:12.129090Z"
    },
    "papermill": {
     "duration": 0.047457,
     "end_time": "2022-11-30T09:14:12.132877",
     "exception": false,
     "start_time": "2022-11-30T09:14:12.085420",
     "status": "completed"
    },
    "tags": []
   },
   "outputs": [
    {
     "data": {
      "text/plain": [
       "customerID           0\n",
       "gender               0\n",
       "SeniorCitizen        0\n",
       "Partner              0\n",
       "Dependents           0\n",
       "tenure               0\n",
       "PhoneService         0\n",
       "MultipleLines        0\n",
       "InternetService      0\n",
       "OnlineSecurity       0\n",
       "OnlineBackup         0\n",
       "DeviceProtection     0\n",
       "TechSupport          0\n",
       "StreamingTV          0\n",
       "StreamingMovies      0\n",
       "Contract             0\n",
       "PaperlessBilling     0\n",
       "PaymentMethod        0\n",
       "MonthlyCharges       0\n",
       "TotalCharges        11\n",
       "Churn                0\n",
       "dtype: int64"
      ]
     },
     "execution_count": 8,
     "metadata": {},
     "output_type": "execute_result"
    }
   ],
   "source": [
    "df.isnull().sum()"
   ]
  },
  {
   "cell_type": "code",
   "execution_count": 9,
   "metadata": {
    "execution": {
     "iopub.execute_input": "2022-11-30T09:14:12.188791Z",
     "iopub.status.busy": "2022-11-30T09:14:12.187985Z",
     "iopub.status.idle": "2022-11-30T09:14:12.224922Z",
     "shell.execute_reply": "2022-11-30T09:14:12.223401Z"
    },
    "papermill": {
     "duration": 0.068459,
     "end_time": "2022-11-30T09:14:12.228012",
     "exception": false,
     "start_time": "2022-11-30T09:14:12.159553",
     "status": "completed"
    },
    "tags": []
   },
   "outputs": [
    {
     "data": {
      "text/html": [
       "<div>\n",
       "<style scoped>\n",
       "    .dataframe tbody tr th:only-of-type {\n",
       "        vertical-align: middle;\n",
       "    }\n",
       "\n",
       "    .dataframe tbody tr th {\n",
       "        vertical-align: top;\n",
       "    }\n",
       "\n",
       "    .dataframe thead th {\n",
       "        text-align: right;\n",
       "    }\n",
       "</style>\n",
       "<table border=\"1\" class=\"dataframe\">\n",
       "  <thead>\n",
       "    <tr style=\"text-align: right;\">\n",
       "      <th></th>\n",
       "      <th>count</th>\n",
       "      <th>mean</th>\n",
       "      <th>std</th>\n",
       "      <th>min</th>\n",
       "      <th>25%</th>\n",
       "      <th>50%</th>\n",
       "      <th>75%</th>\n",
       "      <th>max</th>\n",
       "    </tr>\n",
       "  </thead>\n",
       "  <tbody>\n",
       "    <tr>\n",
       "      <th>SeniorCitizen</th>\n",
       "      <td>7043.0</td>\n",
       "      <td>0.162147</td>\n",
       "      <td>0.368612</td>\n",
       "      <td>0.00</td>\n",
       "      <td>0.00</td>\n",
       "      <td>0.000</td>\n",
       "      <td>0.0000</td>\n",
       "      <td>1.00</td>\n",
       "    </tr>\n",
       "    <tr>\n",
       "      <th>tenure</th>\n",
       "      <td>7043.0</td>\n",
       "      <td>32.371149</td>\n",
       "      <td>24.559481</td>\n",
       "      <td>0.00</td>\n",
       "      <td>9.00</td>\n",
       "      <td>29.000</td>\n",
       "      <td>55.0000</td>\n",
       "      <td>72.00</td>\n",
       "    </tr>\n",
       "    <tr>\n",
       "      <th>MonthlyCharges</th>\n",
       "      <td>7043.0</td>\n",
       "      <td>64.761692</td>\n",
       "      <td>30.090047</td>\n",
       "      <td>18.25</td>\n",
       "      <td>35.50</td>\n",
       "      <td>70.350</td>\n",
       "      <td>89.8500</td>\n",
       "      <td>118.75</td>\n",
       "    </tr>\n",
       "    <tr>\n",
       "      <th>TotalCharges</th>\n",
       "      <td>7032.0</td>\n",
       "      <td>2283.300441</td>\n",
       "      <td>2266.771362</td>\n",
       "      <td>18.80</td>\n",
       "      <td>401.45</td>\n",
       "      <td>1397.475</td>\n",
       "      <td>3794.7375</td>\n",
       "      <td>8684.80</td>\n",
       "    </tr>\n",
       "  </tbody>\n",
       "</table>\n",
       "</div>"
      ],
      "text/plain": [
       "                 count         mean          std    min     25%       50%  \\\n",
       "SeniorCitizen   7043.0     0.162147     0.368612   0.00    0.00     0.000   \n",
       "tenure          7043.0    32.371149    24.559481   0.00    9.00    29.000   \n",
       "MonthlyCharges  7043.0    64.761692    30.090047  18.25   35.50    70.350   \n",
       "TotalCharges    7032.0  2283.300441  2266.771362  18.80  401.45  1397.475   \n",
       "\n",
       "                      75%      max  \n",
       "SeniorCitizen      0.0000     1.00  \n",
       "tenure            55.0000    72.00  \n",
       "MonthlyCharges    89.8500   118.75  \n",
       "TotalCharges    3794.7375  8684.80  "
      ]
     },
     "execution_count": 9,
     "metadata": {},
     "output_type": "execute_result"
    }
   ],
   "source": [
    "df.describe().T"
   ]
  },
  {
   "cell_type": "markdown",
   "metadata": {
    "papermill": {
     "duration": 0.028235,
     "end_time": "2022-11-30T09:14:12.284238",
     "exception": false,
     "start_time": "2022-11-30T09:14:12.256003",
     "status": "completed"
    },
    "tags": []
   },
   "source": [
    "# Numerical and Categorical Variables Analysis"
   ]
  },
  {
   "cell_type": "markdown",
   "metadata": {
    "papermill": {
     "duration": 0.027878,
     "end_time": "2022-11-30T09:14:12.337957",
     "exception": false,
     "start_time": "2022-11-30T09:14:12.310079",
     "status": "completed"
    },
    "tags": []
   },
   "source": [
    "In this section, numeric and categorical variables will be determined. The grab_col_names() function will be used for this. First of all, data classes are mentioned below.\n",
    "* **Numerical**\n",
    "* **Categorical**\n",
    "* **Numerical Looking but Categorical Variable**  \n",
    "For example, let's say we have the values ​​of the Class variable as 1, 2, 3. These values ​​are numeric but represent categories.\n",
    "* **Categorical Looking but Carry No Information**  \n",
    "The customerID variable is an example of this. Its type is object, but it does not carry information in terms of category. Contains many classes.  \n",
    "\n",
    "grab_col_names() function gives the names of Categorical, Numerical and Categorical Looking but Carry No Information variables in the data set.   \n",
    "  \n",
    "**cat_cols :** Categorical Columns  \n",
    "**num_cols :** Numerical Columns  \n",
    "**cat_but_car :** Columns of Categorical Looking but Carry No Information  \n",
    "**cat_th :** Class Threshold for Numerical Looking but Categorical Variables  \n",
    "**car_th :** Class Threshold for Categorical Looking but Carry No Information Variables   \n",
    "  \n",
    "**Note :** Numerical Looking but Categorical Variable are also included in categorical variables. \n"
   ]
  },
  {
   "cell_type": "code",
   "execution_count": 10,
   "metadata": {
    "execution": {
     "iopub.execute_input": "2022-11-30T09:14:12.395043Z",
     "iopub.status.busy": "2022-11-30T09:14:12.394087Z",
     "iopub.status.idle": "2022-11-30T09:14:12.404120Z",
     "shell.execute_reply": "2022-11-30T09:14:12.403289Z"
    },
    "papermill": {
     "duration": 0.041828,
     "end_time": "2022-11-30T09:14:12.406701",
     "exception": false,
     "start_time": "2022-11-30T09:14:12.364873",
     "status": "completed"
    },
    "tags": []
   },
   "outputs": [],
   "source": [
    "def grab_col_names(dataframe, cat_th=10, car_th=20):\n",
    " \n",
    "    # cat_cols, cat_but_car\n",
    "    cat_cols = [col for col in dataframe.columns if dataframe[col].dtypes == \"O\"]\n",
    "    num_but_cat = [col for col in dataframe.columns if dataframe[col].nunique() < cat_th and\n",
    "                   dataframe[col].dtypes != \"O\"]\n",
    "    cat_but_car = [col for col in dataframe.columns if dataframe[col].nunique() > car_th and\n",
    "                   dataframe[col].dtypes == \"O\"]\n",
    "    cat_cols = cat_cols + num_but_cat\n",
    "    cat_cols = [col for col in cat_cols if col not in cat_but_car]\n",
    "\n",
    "    # num_cols\n",
    "    num_cols = [col for col in dataframe.columns if dataframe[col].dtypes != \"O\"]\n",
    "    num_cols = [col for col in num_cols if col not in num_but_cat]\n",
    "\n",
    "    print(f\"Observations: {dataframe.shape[0]}\")\n",
    "    print(f\"Variables: {dataframe.shape[1]}\")\n",
    "    print(f'cat_cols: {len(cat_cols)}')\n",
    "    print(f'num_cols: {len(num_cols)}')\n",
    "    print(f'cat_but_car: {len(cat_but_car)}')\n",
    "    print(f'num_but_cat: {len(num_but_cat)}')\n",
    "    return cat_cols, num_cols, cat_but_car"
   ]
  },
  {
   "cell_type": "code",
   "execution_count": 11,
   "metadata": {
    "execution": {
     "iopub.execute_input": "2022-11-30T09:14:12.464294Z",
     "iopub.status.busy": "2022-11-30T09:14:12.463737Z",
     "iopub.status.idle": "2022-11-30T09:14:12.501854Z",
     "shell.execute_reply": "2022-11-30T09:14:12.499958Z"
    },
    "papermill": {
     "duration": 0.070169,
     "end_time": "2022-11-30T09:14:12.504496",
     "exception": false,
     "start_time": "2022-11-30T09:14:12.434327",
     "status": "completed"
    },
    "tags": []
   },
   "outputs": [
    {
     "name": "stdout",
     "output_type": "stream",
     "text": [
      "Observations: 7043\n",
      "Variables: 21\n",
      "cat_cols: 17\n",
      "num_cols: 3\n",
      "cat_but_car: 1\n",
      "num_but_cat: 1\n"
     ]
    }
   ],
   "source": [
    "cat_cols, num_cols, cat_but_car = grab_col_names(df)"
   ]
  },
  {
   "cell_type": "code",
   "execution_count": 12,
   "metadata": {
    "execution": {
     "iopub.execute_input": "2022-11-30T09:14:12.564967Z",
     "iopub.status.busy": "2022-11-30T09:14:12.563719Z",
     "iopub.status.idle": "2022-11-30T09:14:12.571147Z",
     "shell.execute_reply": "2022-11-30T09:14:12.569974Z"
    },
    "papermill": {
     "duration": 0.039087,
     "end_time": "2022-11-30T09:14:12.573994",
     "exception": false,
     "start_time": "2022-11-30T09:14:12.534907",
     "status": "completed"
    },
    "tags": []
   },
   "outputs": [
    {
     "data": {
      "text/plain": [
       "['gender',\n",
       " 'Partner',\n",
       " 'Dependents',\n",
       " 'PhoneService',\n",
       " 'MultipleLines',\n",
       " 'InternetService',\n",
       " 'OnlineSecurity',\n",
       " 'OnlineBackup',\n",
       " 'DeviceProtection',\n",
       " 'TechSupport',\n",
       " 'StreamingTV',\n",
       " 'StreamingMovies',\n",
       " 'Contract',\n",
       " 'PaperlessBilling',\n",
       " 'PaymentMethod',\n",
       " 'Churn',\n",
       " 'SeniorCitizen']"
      ]
     },
     "execution_count": 12,
     "metadata": {},
     "output_type": "execute_result"
    }
   ],
   "source": [
    "cat_cols"
   ]
  },
  {
   "cell_type": "code",
   "execution_count": 13,
   "metadata": {
    "execution": {
     "iopub.execute_input": "2022-11-30T09:14:12.631173Z",
     "iopub.status.busy": "2022-11-30T09:14:12.630342Z",
     "iopub.status.idle": "2022-11-30T09:14:12.637440Z",
     "shell.execute_reply": "2022-11-30T09:14:12.635911Z"
    },
    "papermill": {
     "duration": 0.038799,
     "end_time": "2022-11-30T09:14:12.640219",
     "exception": false,
     "start_time": "2022-11-30T09:14:12.601420",
     "status": "completed"
    },
    "tags": []
   },
   "outputs": [
    {
     "data": {
      "text/plain": [
       "['tenure', 'MonthlyCharges', 'TotalCharges']"
      ]
     },
     "execution_count": 13,
     "metadata": {},
     "output_type": "execute_result"
    }
   ],
   "source": [
    "num_cols"
   ]
  },
  {
   "cell_type": "code",
   "execution_count": 14,
   "metadata": {
    "execution": {
     "iopub.execute_input": "2022-11-30T09:14:12.700560Z",
     "iopub.status.busy": "2022-11-30T09:14:12.699777Z",
     "iopub.status.idle": "2022-11-30T09:14:12.708718Z",
     "shell.execute_reply": "2022-11-30T09:14:12.706931Z"
    },
    "papermill": {
     "duration": 0.044503,
     "end_time": "2022-11-30T09:14:12.713056",
     "exception": false,
     "start_time": "2022-11-30T09:14:12.668553",
     "status": "completed"
    },
    "tags": []
   },
   "outputs": [
    {
     "data": {
      "text/plain": [
       "['customerID']"
      ]
     },
     "execution_count": 14,
     "metadata": {},
     "output_type": "execute_result"
    }
   ],
   "source": [
    "cat_but_car"
   ]
  },
  {
   "cell_type": "markdown",
   "metadata": {
    "papermill": {
     "duration": 0.026087,
     "end_time": "2022-11-30T09:14:12.767216",
     "exception": false,
     "start_time": "2022-11-30T09:14:12.741129",
     "status": "completed"
    },
    "tags": []
   },
   "source": [
    "In this section, numerical and categorical variables will be analyzed using cat_summary() and num_summary() functions.  \n",
    "\n",
    "The value numbers of the classes in the variable are given by the cat_summary function and the ratio information is given. It is then visualized. "
   ]
  },
  {
   "cell_type": "code",
   "execution_count": 15,
   "metadata": {
    "execution": {
     "iopub.execute_input": "2022-11-30T09:14:12.824385Z",
     "iopub.status.busy": "2022-11-30T09:14:12.823181Z",
     "iopub.status.idle": "2022-11-30T09:14:12.830777Z",
     "shell.execute_reply": "2022-11-30T09:14:12.829421Z"
    },
    "papermill": {
     "duration": 0.039562,
     "end_time": "2022-11-30T09:14:12.833923",
     "exception": false,
     "start_time": "2022-11-30T09:14:12.794361",
     "status": "completed"
    },
    "tags": []
   },
   "outputs": [],
   "source": [
    "def cat_summary(dataframe, col_name, plot=False):\n",
    "    print(pd.DataFrame({col_name: dataframe[col_name].value_counts(),\n",
    "                        \"Ratio\": 100 * dataframe[col_name].value_counts() / len(dataframe)}))\n",
    "    print(\"####################################################################\")\n",
    "    if plot:\n",
    "        sns.countplot(y=dataframe[col_name], data=dataframe)\n",
    "        plt.show()"
   ]
  },
  {
   "cell_type": "code",
   "execution_count": 16,
   "metadata": {
    "execution": {
     "iopub.execute_input": "2022-11-30T09:14:12.891610Z",
     "iopub.status.busy": "2022-11-30T09:14:12.891096Z",
     "iopub.status.idle": "2022-11-30T09:14:15.755035Z",
     "shell.execute_reply": "2022-11-30T09:14:15.753811Z"
    },
    "papermill": {
     "duration": 2.896558,
     "end_time": "2022-11-30T09:14:15.758116",
     "exception": false,
     "start_time": "2022-11-30T09:14:12.861558",
     "status": "completed"
    },
    "tags": []
   },
   "outputs": [
    {
     "name": "stdout",
     "output_type": "stream",
     "text": [
      "        gender     Ratio\n",
      "Male      3555  50.47565\n",
      "Female    3488  49.52435\n",
      "####################################################################\n"
     ]
    },
    {
     "data": {
      "image/png": "[encoded data removed]",
      "text/plain": [
       "<Figure size 432x288 with 1 Axes>"
      ]
     },
     "metadata": {
      "needs_background": "light"
     },
     "output_type": "display_data"
    },
    {
     "name": "stdout",
     "output_type": "stream",
     "text": [
      "     Partner     Ratio\n",
      "No      3641  51.69672\n",
      "Yes     3402  48.30328\n",
      "####################################################################\n"
     ]
    },
    {
     "data": {
      "image/png": "[encoded data removed]",
      "text/plain": [
       "<Figure size 432x288 with 1 Axes>"
      ]
     },
     "metadata": {
      "needs_background": "light"
     },
     "output_type": "display_data"
    },
    {
     "name": "stdout",
     "output_type": "stream",
     "text": [
      "     Dependents      Ratio\n",
      "No         4933  70.041176\n",
      "Yes        2110  29.958824\n",
      "####################################################################\n"
     ]
    },
    {
     "data": {
      "image/png": "[encoded data removed]",
      "text/plain": [
       "<Figure size 432x288 with 1 Axes>"
      ]
     },
     "metadata": {
      "needs_background": "light"
     },
     "output_type": "display_data"
    },
    {
     "name": "stdout",
     "output_type": "stream",
     "text": [
      "     PhoneService      Ratio\n",
      "Yes          6361  90.316626\n",
      "No            682   9.683374\n",
      "####################################################################\n"
     ]
    },
    {
     "data": {
      "image/png": "[encoded data removed]",
      "text/plain": [
       "<Figure size 432x288 with 1 Axes>"
      ]
     },
     "metadata": {
      "needs_background": "light"
     },
     "output_type": "display_data"
    },
    {
     "name": "stdout",
     "output_type": "stream",
     "text": [
      "                  MultipleLines      Ratio\n",
      "No                         3390  48.132898\n",
      "Yes                        2971  42.183729\n",
      "No phone service            682   9.683374\n",
      "####################################################################\n"
     ]
    },
    {
     "data": {
      "image/png": "[encoded data removed]",
      "text/plain": [
       "<Figure size 432x288 with 1 Axes>"
      ]
     },
     "metadata": {
      "needs_background": "light"
     },
     "output_type": "display_data"
    },
    {
     "name": "stdout",
     "output_type": "stream",
     "text": [
      "             InternetService      Ratio\n",
      "Fiber optic             3096  43.958540\n",
      "DSL                     2421  34.374556\n",
      "No                      1526  21.666903\n",
      "####################################################################\n"
     ]
    },
    {
     "data": {
      "image/png": "[encoded data removed]",
      "text/plain": [
       "<Figure size 432x288 with 1 Axes>"
      ]
     },
     "metadata": {
      "needs_background": "light"
     },
     "output_type": "display_data"
    },
    {
     "name": "stdout",
     "output_type": "stream",
     "text": [
      "                     OnlineSecurity      Ratio\n",
      "No                             3498  49.666335\n",
      "Yes                            2019  28.666761\n",
      "No internet service            1526  21.666903\n",
      "####################################################################\n"
     ]
    },
    {
     "data": {
      "image/png": "[encoded data removed]",
      "text/plain": [
       "<Figure size 432x288 with 1 Axes>"
      ]
     },
     "metadata": {
      "needs_background": "light"
     },
     "output_type": "display_data"
    },
    {
     "name": "stdout",
     "output_type": "stream",
     "text": [
      "                     OnlineBackup      Ratio\n",
      "No                           3088  43.844952\n",
      "Yes                          2429  34.488144\n",
      "No internet service          1526  21.666903\n",
      "####################################################################\n"
     ]
    },
    {
     "data": {
      "image/png": "[encoded data removed]",
      "text/plain": [
       "<Figure size 432x288 with 1 Axes>"
      ]
     },
     "metadata": {
      "needs_background": "light"
     },
     "output_type": "display_data"
    },
    {
     "name": "stdout",
     "output_type": "stream",
     "text": [
      "                     DeviceProtection      Ratio\n",
      "No                               3095  43.944342\n",
      "Yes                              2422  34.388755\n",
      "No internet service              1526  21.666903\n",
      "####################################################################\n"
     ]
    },
    {
     "data": {
      "image/png": "[encoded data removed]",
      "text/plain": [
       "<Figure size 432x288 with 1 Axes>"
      ]
     },
     "metadata": {
      "needs_background": "light"
     },
     "output_type": "display_data"
    },
    {
     "name": "stdout",
     "output_type": "stream",
     "text": [
      "                     TechSupport      Ratio\n",
      "No                          3473  49.311373\n",
      "Yes                         2044  29.021724\n",
      "No internet service         1526  21.666903\n",
      "####################################################################\n"
     ]
    },
    {
     "data": {
      "image/png": "[encoded data removed]",
      "text/plain": [
       "<Figure size 432x288 with 1 Axes>"
      ]
     },
     "metadata": {
      "needs_background": "light"
     },
     "output_type": "display_data"
    },
    {
     "name": "stdout",
     "output_type": "stream",
     "text": [
      "                     StreamingTV      Ratio\n",
      "No                          2810  39.897771\n",
      "Yes                         2707  38.435326\n",
      "No internet service         1526  21.666903\n",
      "####################################################################\n"
     ]
    },
    {
     "data": {
      "image/png": "[encoded data removed]",
      "text/plain": [
       "<Figure size 432x288 with 1 Axes>"
      ]
     },
     "metadata": {
      "needs_background": "light"
     },
     "output_type": "display_data"
    },
    {
     "name": "stdout",
     "output_type": "stream",
     "text": [
      "                     StreamingMovies      Ratio\n",
      "No                              2785  39.542808\n",
      "Yes                             2732  38.790288\n",
      "No internet service             1526  21.666903\n",
      "####################################################################\n"
     ]
    },
    {
     "data": {
      "image/png": "[encoded data removed]",
      "text/plain": [
       "<Figure size 432x288 with 1 Axes>"
      ]
     },
     "metadata": {
      "needs_background": "light"
     },
     "output_type": "display_data"
    },
    {
     "name": "stdout",
     "output_type": "stream",
     "text": [
      "                Contract      Ratio\n",
      "Month-to-month      3875  55.019168\n",
      "Two year            1695  24.066449\n",
      "One year            1473  20.914383\n",
      "####################################################################\n"
     ]
    },
    {
     "data": {
      "image/png": "[encoded data removed]",
      "text/plain": [
       "<Figure size 432x288 with 1 Axes>"
      ]
     },
     "metadata": {
      "needs_background": "light"
     },
     "output_type": "display_data"
    },
    {
     "name": "stdout",
     "output_type": "stream",
     "text": [
      "     PaperlessBilling      Ratio\n",
      "Yes              4171  59.221922\n",
      "No               2872  40.778078\n",
      "####################################################################\n"
     ]
    },
    {
     "data": {
      "image/png": "[encoded data removed]",
      "text/plain": [
       "<Figure size 432x288 with 1 Axes>"
      ]
     },
     "metadata": {
      "needs_background": "light"
     },
     "output_type": "display_data"
    },
    {
     "name": "stdout",
     "output_type": "stream",
     "text": [
      "                           PaymentMethod      Ratio\n",
      "Electronic check                    2365  33.579441\n",
      "Mailed check                        1612  22.887974\n",
      "Bank transfer (automatic)           1544  21.922476\n",
      "Credit card (automatic)             1522  21.610109\n",
      "####################################################################\n"
     ]
    },
    {
     "data": {
      "image/png": "[encoded data removed]",
      "text/plain": [
       "<Figure size 432x288 with 1 Axes>"
      ]
     },
     "metadata": {
      "needs_background": "light"
     },
     "output_type": "display_data"
    },
    {
     "name": "stdout",
     "output_type": "stream",
     "text": [
      "     Churn      Ratio\n",
      "No    5174  73.463013\n",
      "Yes   1869  26.536987\n",
      "####################################################################\n"
     ]
    },
    {
     "data": {
      "image/png": "[encoded data removed]",
      "text/plain": [
       "<Figure size 432x288 with 1 Axes>"
      ]
     },
     "metadata": {
      "needs_background": "light"
     },
     "output_type": "display_data"
    },
    {
     "name": "stdout",
     "output_type": "stream",
     "text": [
      "   SeniorCitizen      Ratio\n",
      "0           5901  83.785319\n",
      "1           1142  16.214681\n",
      "####################################################################\n"
     ]
    },
    {
     "data": {
      "image/png": "[encoded data removed]",
      "text/plain": [
       "<Figure size 432x288 with 1 Axes>"
      ]
     },
     "metadata": {
      "needs_background": "light"
     },
     "output_type": "display_data"
    }
   ],
   "source": [
    "for col in cat_cols:\n",
    "    cat_summary(df, col, plot=True)"
   ]
  },
  {
   "cell_type": "markdown",
   "metadata": {
    "papermill": {
     "duration": 0.043336,
     "end_time": "2022-11-30T09:14:15.841319",
     "exception": false,
     "start_time": "2022-11-30T09:14:15.797983",
     "status": "completed"
    },
    "tags": []
   },
   "source": [
    "With the num_summary function, descriptive statistics of the numerical columns are given and then visualized using the histogram."
   ]
  },
  {
   "cell_type": "code",
   "execution_count": 17,
   "metadata": {
    "execution": {
     "iopub.execute_input": "2022-11-30T09:14:15.913890Z",
     "iopub.status.busy": "2022-11-30T09:14:15.913073Z",
     "iopub.status.idle": "2022-11-30T09:14:15.920778Z",
     "shell.execute_reply": "2022-11-30T09:14:15.919454Z"
    },
    "papermill": {
     "duration": 0.044802,
     "end_time": "2022-11-30T09:14:15.923413",
     "exception": false,
     "start_time": "2022-11-30T09:14:15.878611",
     "status": "completed"
    },
    "tags": []
   },
   "outputs": [],
   "source": [
    "def num_summary(dataframe, numerical_col, plot=False):\n",
    "    quantiles = [0.05, 0.10, 0.20, 0.30, 0.40, 0.50, 0.60, 0.70, 0.80, 0.90, 0.95, 0.99]\n",
    "    print(dataframe[numerical_col].describe(quantiles).T)\n",
    "\n",
    "    if plot:\n",
    "        dataframe[numerical_col].hist(bins=30)\n",
    "        plt.xlabel(numerical_col)\n",
    "        plt.title(numerical_col)\n",
    "        plt.show(block=True)"
   ]
  },
  {
   "cell_type": "code",
   "execution_count": 18,
   "metadata": {
    "execution": {
     "iopub.execute_input": "2022-11-30T09:14:15.994771Z",
     "iopub.status.busy": "2022-11-30T09:14:15.994322Z",
     "iopub.status.idle": "2022-11-30T09:14:17.021561Z",
     "shell.execute_reply": "2022-11-30T09:14:17.020155Z"
    },
    "papermill": {
     "duration": 1.066745,
     "end_time": "2022-11-30T09:14:17.024433",
     "exception": false,
     "start_time": "2022-11-30T09:14:15.957688",
     "status": "completed"
    },
    "tags": []
   },
   "outputs": [
    {
     "name": "stdout",
     "output_type": "stream",
     "text": [
      "count    7043.000000\n",
      "mean       32.371149\n",
      "std        24.559481\n",
      "min         0.000000\n",
      "5%          1.000000\n",
      "10%         2.000000\n",
      "20%         6.000000\n",
      "30%        12.000000\n",
      "40%        20.000000\n",
      "50%        29.000000\n",
      "60%        40.000000\n",
      "70%        50.000000\n",
      "80%        60.000000\n",
      "90%        69.000000\n",
      "95%        72.000000\n",
      "99%        72.000000\n",
      "max        72.000000\n",
      "Name: tenure, dtype: float64\n"
     ]
    },
    {
     "data": {
      "image/png": "[encoded data removed]",
      "text/plain": [
       "<Figure size 432x288 with 1 Axes>"
      ]
     },
     "metadata": {
      "needs_background": "light"
     },
     "output_type": "display_data"
    },
    {
     "name": "stdout",
     "output_type": "stream",
     "text": [
      "count    7043.000000\n",
      "mean       64.761692\n",
      "std        30.090047\n",
      "min        18.250000\n",
      "5%         19.650000\n",
      "10%        20.050000\n",
      "20%        25.050000\n",
      "30%        45.850000\n",
      "40%        58.830000\n",
      "50%        70.350000\n",
      "60%        79.100000\n",
      "70%        85.500000\n",
      "80%        94.250000\n",
      "90%       102.600000\n",
      "95%       107.400000\n",
      "99%       114.729000\n",
      "max       118.750000\n",
      "Name: MonthlyCharges, dtype: float64\n"
     ]
    },
    {
     "data": {
      "image/png": "[encoded data removed]",
      "text/plain": [
       "<Figure size 432x288 with 1 Axes>"
      ]
     },
     "metadata": {
      "needs_background": "light"
     },
     "output_type": "display_data"
    },
    {
     "name": "stdout",
     "output_type": "stream",
     "text": [
      "count    7032.000000\n",
      "mean     2283.300441\n",
      "std      2266.771362\n",
      "min        18.800000\n",
      "5%         49.605000\n",
      "10%        84.600000\n",
      "20%       267.070000\n",
      "30%       551.995000\n",
      "40%       944.170000\n",
      "50%      1397.475000\n",
      "60%      2048.950000\n",
      "70%      3141.130000\n",
      "80%      4475.410000\n",
      "90%      5976.640000\n",
      "95%      6923.590000\n",
      "99%      8039.883000\n",
      "max      8684.800000\n",
      "Name: TotalCharges, dtype: float64\n"
     ]
    },
    {
     "data": {
      "image/png": "[encoded data removed]",
      "text/plain": [
       "<Figure size 432x288 with 1 Axes>"
      ]
     },
     "metadata": {
      "needs_background": "light"
     },
     "output_type": "display_data"
    }
   ],
   "source": [
    "for col in num_cols:\n",
    "    num_summary(df, col, plot=True)"
   ]
  },
  {
   "cell_type": "markdown",
   "metadata": {
    "papermill": {
     "duration": 0.033927,
     "end_time": "2022-11-30T09:14:17.095884",
     "exception": false,
     "start_time": "2022-11-30T09:14:17.061957",
     "status": "completed"
    },
    "tags": []
   },
   "source": [
    "# Target Variable Analysis"
   ]
  },
  {
   "cell_type": "markdown",
   "metadata": {
    "papermill": {
     "duration": 0.03183,
     "end_time": "2022-11-30T09:14:17.161394",
     "exception": false,
     "start_time": "2022-11-30T09:14:17.129564",
     "status": "completed"
    },
    "tags": []
   },
   "source": [
    "In this section, target variable analysis will be done. The average of the target variable will be given according to the classes of the categorical variables. Here our target variable is \"Churn\"."
   ]
  },
  {
   "cell_type": "code",
   "execution_count": 19,
   "metadata": {
    "execution": {
     "iopub.execute_input": "2022-11-30T09:14:17.229905Z",
     "iopub.status.busy": "2022-11-30T09:14:17.228848Z",
     "iopub.status.idle": "2022-11-30T09:14:17.239979Z",
     "shell.execute_reply": "2022-11-30T09:14:17.238713Z"
    },
    "papermill": {
     "duration": 0.048855,
     "end_time": "2022-11-30T09:14:17.243630",
     "exception": false,
     "start_time": "2022-11-30T09:14:17.194775",
     "status": "completed"
    },
    "tags": []
   },
   "outputs": [],
   "source": [
    "df[\"Churn\"] = df[\"Churn\"].apply(lambda x : 1 if (x == \"Yes\") else 0)"
   ]
  },
  {
   "cell_type": "code",
   "execution_count": 20,
   "metadata": {
    "execution": {
     "iopub.execute_input": "2022-11-30T09:14:17.313022Z",
     "iopub.status.busy": "2022-11-30T09:14:17.312594Z",
     "iopub.status.idle": "2022-11-30T09:14:17.319922Z",
     "shell.execute_reply": "2022-11-30T09:14:17.318701Z"
    },
    "papermill": {
     "duration": 0.046636,
     "end_time": "2022-11-30T09:14:17.322557",
     "exception": false,
     "start_time": "2022-11-30T09:14:17.275921",
     "status": "completed"
    },
    "tags": []
   },
   "outputs": [],
   "source": [
    "def target_summary_cat(df, target, cat_col):\n",
    "    print(\"target : \", target)\n",
    "    print(cat_col)\n",
    "    print(pd.DataFrame({\"TARGET_MEAN\": df.groupby(cat_col)[target].mean(),\n",
    "                        \"Count\": df[cat_col].value_counts(),\n",
    "                        \"Ratio\": 100 * df[cat_col].value_counts() / len(df)}), end=\"\\n\\n\\n\")"
   ]
  },
  {
   "cell_type": "code",
   "execution_count": 21,
   "metadata": {
    "execution": {
     "iopub.execute_input": "2022-11-30T09:14:17.391336Z",
     "iopub.status.busy": "2022-11-30T09:14:17.390802Z",
     "iopub.status.idle": "2022-11-30T09:14:17.521212Z",
     "shell.execute_reply": "2022-11-30T09:14:17.519629Z"
    },
    "papermill": {
     "duration": 0.167966,
     "end_time": "2022-11-30T09:14:17.524295",
     "exception": false,
     "start_time": "2022-11-30T09:14:17.356329",
     "status": "completed"
    },
    "tags": []
   },
   "outputs": [
    {
     "name": "stdout",
     "output_type": "stream",
     "text": [
      "target :  Churn\n",
      "gender\n",
      "        TARGET_MEAN  Count     Ratio\n",
      "Female     0.269209   3488  49.52435\n",
      "Male       0.261603   3555  50.47565\n",
      "\n",
      "\n",
      "target :  Churn\n",
      "Partner\n",
      "     TARGET_MEAN  Count     Ratio\n",
      "No      0.329580   3641  51.69672\n",
      "Yes     0.196649   3402  48.30328\n",
      "\n",
      "\n",
      "target :  Churn\n",
      "Dependents\n",
      "     TARGET_MEAN  Count      Ratio\n",
      "No      0.312791   4933  70.041176\n",
      "Yes     0.154502   2110  29.958824\n",
      "\n",
      "\n",
      "target :  Churn\n",
      "PhoneService\n",
      "     TARGET_MEAN  Count      Ratio\n",
      "No      0.249267    682   9.683374\n",
      "Yes     0.267096   6361  90.316626\n",
      "\n",
      "\n",
      "target :  Churn\n",
      "MultipleLines\n",
      "                  TARGET_MEAN  Count      Ratio\n",
      "No                   0.250442   3390  48.132898\n",
      "No phone service     0.249267    682   9.683374\n",
      "Yes                  0.286099   2971  42.183729\n",
      "\n",
      "\n",
      "target :  Churn\n",
      "InternetService\n",
      "             TARGET_MEAN  Count      Ratio\n",
      "DSL             0.189591   2421  34.374556\n",
      "Fiber optic     0.418928   3096  43.958540\n",
      "No              0.074050   1526  21.666903\n",
      "\n",
      "\n",
      "target :  Churn\n",
      "OnlineSecurity\n",
      "                     TARGET_MEAN  Count      Ratio\n",
      "No                      0.417667   3498  49.666335\n",
      "No internet service     0.074050   1526  21.666903\n",
      "Yes                     0.146112   2019  28.666761\n",
      "\n",
      "\n",
      "target :  Churn\n",
      "OnlineBackup\n",
      "                     TARGET_MEAN  Count      Ratio\n",
      "No                      0.399288   3088  43.844952\n",
      "No internet service     0.074050   1526  21.666903\n",
      "Yes                     0.215315   2429  34.488144\n",
      "\n",
      "\n",
      "target :  Churn\n",
      "DeviceProtection\n",
      "                     TARGET_MEAN  Count      Ratio\n",
      "No                      0.391276   3095  43.944342\n",
      "No internet service     0.074050   1526  21.666903\n",
      "Yes                     0.225021   2422  34.388755\n",
      "\n",
      "\n",
      "target :  Churn\n",
      "TechSupport\n",
      "                     TARGET_MEAN  Count      Ratio\n",
      "No                      0.416355   3473  49.311373\n",
      "No internet service     0.074050   1526  21.666903\n",
      "Yes                     0.151663   2044  29.021724\n",
      "\n",
      "\n",
      "target :  Churn\n",
      "StreamingTV\n",
      "                     TARGET_MEAN  Count      Ratio\n",
      "No                      0.335231   2810  39.897771\n",
      "No internet service     0.074050   1526  21.666903\n",
      "Yes                     0.300702   2707  38.435326\n",
      "\n",
      "\n",
      "target :  Churn\n",
      "StreamingMovies\n",
      "                     TARGET_MEAN  Count      Ratio\n",
      "No                      0.336804   2785  39.542808\n",
      "No internet service     0.074050   1526  21.666903\n",
      "Yes                     0.299414   2732  38.790288\n",
      "\n",
      "\n",
      "target :  Churn\n",
      "Contract\n",
      "                TARGET_MEAN  Count      Ratio\n",
      "Month-to-month     0.427097   3875  55.019168\n",
      "One year           0.112695   1473  20.914383\n",
      "Two year           0.028319   1695  24.066449\n",
      "\n",
      "\n",
      "target :  Churn\n",
      "PaperlessBilling\n",
      "     TARGET_MEAN  Count      Ratio\n",
      "No      0.163301   2872  40.778078\n",
      "Yes     0.335651   4171  59.221922\n",
      "\n",
      "\n",
      "target :  Churn\n",
      "PaymentMethod\n",
      "                           TARGET_MEAN  Count      Ratio\n",
      "Bank transfer (automatic)     0.167098   1544  21.922476\n",
      "Credit card (automatic)       0.152431   1522  21.610109\n",
      "Electronic check              0.452854   2365  33.579441\n",
      "Mailed check                  0.191067   1612  22.887974\n",
      "\n",
      "\n",
      "target :  Churn\n",
      "Churn\n",
      "   TARGET_MEAN  Count      Ratio\n",
      "0          0.0   5174  73.463013\n",
      "1          1.0   1869  26.536987\n",
      "\n",
      "\n",
      "target :  Churn\n",
      "SeniorCitizen\n",
      "   TARGET_MEAN  Count      Ratio\n",
      "0     0.236062   5901  83.785319\n",
      "1     0.416813   1142  16.214681\n",
      "\n",
      "\n"
     ]
    }
   ],
   "source": [
    "for col in cat_cols:\n",
    "    target_summary_cat(df, \"Churn\", col)"
   ]
  },
  {
   "cell_type": "markdown",
   "metadata": {
    "papermill": {
     "duration": 0.033546,
     "end_time": "2022-11-30T09:14:17.592764",
     "exception": false,
     "start_time": "2022-11-30T09:14:17.559218",
     "status": "completed"
    },
    "tags": []
   },
   "source": [
    "The average of the numerical variables according to the target variable is given."
   ]
  },
  {
   "cell_type": "code",
   "execution_count": 22,
   "metadata": {
    "execution": {
     "iopub.execute_input": "2022-11-30T09:14:17.662811Z",
     "iopub.status.busy": "2022-11-30T09:14:17.662363Z",
     "iopub.status.idle": "2022-11-30T09:14:17.668615Z",
     "shell.execute_reply": "2022-11-30T09:14:17.667321Z"
    },
    "papermill": {
     "duration": 0.044181,
     "end_time": "2022-11-30T09:14:17.671337",
     "exception": false,
     "start_time": "2022-11-30T09:14:17.627156",
     "status": "completed"
    },
    "tags": []
   },
   "outputs": [],
   "source": [
    "def target_summary_num(df, target, numerical_col):\n",
    "    print(\"Numerical Column :\", numerical_col)\n",
    "    print(df.groupby(target)[numerical_col].mean(), end=\"\\n\\n\\n\")"
   ]
  },
  {
   "cell_type": "code",
   "execution_count": 23,
   "metadata": {
    "execution": {
     "iopub.execute_input": "2022-11-30T09:14:17.743633Z",
     "iopub.status.busy": "2022-11-30T09:14:17.742852Z",
     "iopub.status.idle": "2022-11-30T09:14:17.753757Z",
     "shell.execute_reply": "2022-11-30T09:14:17.752268Z"
    },
    "papermill": {
     "duration": 0.050855,
     "end_time": "2022-11-30T09:14:17.756747",
     "exception": false,
     "start_time": "2022-11-30T09:14:17.705892",
     "status": "completed"
    },
    "tags": []
   },
   "outputs": [
    {
     "name": "stdout",
     "output_type": "stream",
     "text": [
      "Numerical Column : tenure\n",
      "Churn\n",
      "0    37.569965\n",
      "1    17.979133\n",
      "Name: tenure, dtype: float64\n",
      "\n",
      "\n",
      "Numerical Column : MonthlyCharges\n",
      "Churn\n",
      "0    61.265124\n",
      "1    74.441332\n",
      "Name: MonthlyCharges, dtype: float64\n",
      "\n",
      "\n",
      "Numerical Column : TotalCharges\n",
      "Churn\n",
      "0    2555.344141\n",
      "1    1531.796094\n",
      "Name: TotalCharges, dtype: float64\n",
      "\n",
      "\n"
     ]
    }
   ],
   "source": [
    "for col in num_cols:\n",
    "    target_summary_num(df, \"Churn\", col)"
   ]
  },
  {
   "cell_type": "markdown",
   "metadata": {
    "papermill": {
     "duration": 0.033263,
     "end_time": "2022-11-30T09:14:17.822247",
     "exception": false,
     "start_time": "2022-11-30T09:14:17.788984",
     "status": "completed"
    },
    "tags": []
   },
   "source": [
    "# Outlier Analysis"
   ]
  },
  {
   "cell_type": "markdown",
   "metadata": {
    "papermill": {
     "duration": 0.034879,
     "end_time": "2022-11-30T09:14:17.891086",
     "exception": false,
     "start_time": "2022-11-30T09:14:17.856207",
     "status": "completed"
    },
    "tags": []
   },
   "source": [
    "In this section, outlier analysis will be done. The upper and lower limits will be determined with the outlier_thresholds() function. Then it will be observed whether there is an outlier using the check_outlier() function."
   ]
  },
  {
   "cell_type": "code",
   "execution_count": 24,
   "metadata": {
    "execution": {
     "iopub.execute_input": "2022-11-30T09:14:17.964175Z",
     "iopub.status.busy": "2022-11-30T09:14:17.963740Z",
     "iopub.status.idle": "2022-11-30T09:14:17.971604Z",
     "shell.execute_reply": "2022-11-30T09:14:17.970160Z"
    },
    "papermill": {
     "duration": 0.048997,
     "end_time": "2022-11-30T09:14:17.974363",
     "exception": false,
     "start_time": "2022-11-30T09:14:17.925366",
     "status": "completed"
    },
    "tags": []
   },
   "outputs": [],
   "source": [
    "def outlier_thresholds(dataframe, col_name, q1=0.25, q3=0.75):\n",
    "    quartile1 = dataframe[col_name].quantile(q1)\n",
    "    quartile3 = dataframe[col_name].quantile(q3)\n",
    "    interquantile_range = quartile3 - quartile1\n",
    "    up_limit = quartile3 + 1.5 * interquantile_range\n",
    "    low_limit = quartile1 - 1.5 * interquantile_range\n",
    "    return low_limit, up_limit"
   ]
  },
  {
   "cell_type": "code",
   "execution_count": 25,
   "metadata": {
    "execution": {
     "iopub.execute_input": "2022-11-30T09:14:18.048172Z",
     "iopub.status.busy": "2022-11-30T09:14:18.047014Z",
     "iopub.status.idle": "2022-11-30T09:14:18.053391Z",
     "shell.execute_reply": "2022-11-30T09:14:18.052297Z"
    },
    "papermill": {
     "duration": 0.046097,
     "end_time": "2022-11-30T09:14:18.055998",
     "exception": false,
     "start_time": "2022-11-30T09:14:18.009901",
     "status": "completed"
    },
    "tags": []
   },
   "outputs": [],
   "source": [
    "def check_outlier(dataframe, col_name):\n",
    "    low_limit, up_limit = outlier_thresholds(dataframe, col_name)\n",
    "    if dataframe[(dataframe[col_name] > up_limit) | (dataframe[col_name] < low_limit)].any(axis=None):\n",
    "        return True\n",
    "    else:\n",
    "        return False"
   ]
  },
  {
   "cell_type": "code",
   "execution_count": 26,
   "metadata": {
    "execution": {
     "iopub.execute_input": "2022-11-30T09:14:18.126810Z",
     "iopub.status.busy": "2022-11-30T09:14:18.126099Z",
     "iopub.status.idle": "2022-11-30T09:14:18.151707Z",
     "shell.execute_reply": "2022-11-30T09:14:18.150204Z"
    },
    "papermill": {
     "duration": 0.063611,
     "end_time": "2022-11-30T09:14:18.154619",
     "exception": false,
     "start_time": "2022-11-30T09:14:18.091008",
     "status": "completed"
    },
    "tags": []
   },
   "outputs": [
    {
     "name": "stdout",
     "output_type": "stream",
     "text": [
      "tenure - False\n",
      "MonthlyCharges - False\n",
      "TotalCharges - False\n"
     ]
    }
   ],
   "source": [
    "for col in num_cols:\n",
    "    print(col,\"-\", check_outlier(df, col))"
   ]
  },
  {
   "cell_type": "markdown",
   "metadata": {
    "papermill": {
     "duration": 0.032846,
     "end_time": "2022-11-30T09:14:18.221570",
     "exception": false,
     "start_time": "2022-11-30T09:14:18.188724",
     "status": "completed"
    },
    "tags": []
   },
   "source": [
    "# Missing Value Analysis"
   ]
  },
  {
   "cell_type": "markdown",
   "metadata": {
    "papermill": {
     "duration": 0.035352,
     "end_time": "2022-11-30T09:14:18.290221",
     "exception": false,
     "start_time": "2022-11-30T09:14:18.254869",
     "status": "completed"
    },
    "tags": []
   },
   "source": [
    "In this section, missing value analysis will be done. With the help of missing_values_table() function, a dataframe containing information about missing values ​​will be created. This dataframe contains information about how many missing values ​​are in each column and their ratio."
   ]
  },
  {
   "cell_type": "code",
   "execution_count": 27,
   "metadata": {
    "execution": {
     "iopub.execute_input": "2022-11-30T09:14:18.361425Z",
     "iopub.status.busy": "2022-11-30T09:14:18.360983Z",
     "iopub.status.idle": "2022-11-30T09:14:18.369007Z",
     "shell.execute_reply": "2022-11-30T09:14:18.367707Z"
    },
    "papermill": {
     "duration": 0.047713,
     "end_time": "2022-11-30T09:14:18.371802",
     "exception": false,
     "start_time": "2022-11-30T09:14:18.324089",
     "status": "completed"
    },
    "tags": []
   },
   "outputs": [],
   "source": [
    "def missing_values_table(dataframe, na_name=False):\n",
    "    na_columns = [col for col in dataframe.columns if dataframe[col].isnull().sum() > 0]\n",
    "\n",
    "    n_miss = dataframe[na_columns].isnull().sum().sort_values(ascending=False)\n",
    "    ratio = (dataframe[na_columns].isnull().sum() / dataframe.shape[0] * 100).sort_values(ascending=False)\n",
    "    missing_df = pd.concat([n_miss, np.round(ratio, 2)], axis=1, keys=['n_miss', 'ratio'])\n",
    "    print(missing_df, end=\"\\n\")\n",
    "\n",
    "    if na_name:\n",
    "        return na_columns"
   ]
  },
  {
   "cell_type": "code",
   "execution_count": 28,
   "metadata": {
    "execution": {
     "iopub.execute_input": "2022-11-30T09:14:18.442507Z",
     "iopub.status.busy": "2022-11-30T09:14:18.442039Z",
     "iopub.status.idle": "2022-11-30T09:14:18.476713Z",
     "shell.execute_reply": "2022-11-30T09:14:18.474955Z"
    },
    "papermill": {
     "duration": 0.074094,
     "end_time": "2022-11-30T09:14:18.480441",
     "exception": false,
     "start_time": "2022-11-30T09:14:18.406347",
     "status": "completed"
    },
    "tags": []
   },
   "outputs": [
    {
     "name": "stdout",
     "output_type": "stream",
     "text": [
      "              n_miss  ratio\n",
      "TotalCharges      11   0.16\n"
     ]
    },
    {
     "data": {
      "text/plain": [
       "['TotalCharges']"
      ]
     },
     "execution_count": 28,
     "metadata": {},
     "output_type": "execute_result"
    }
   ],
   "source": [
    "missing_values_table(df, True)"
   ]
  },
  {
   "cell_type": "markdown",
   "metadata": {
    "papermill": {
     "duration": 0.032866,
     "end_time": "2022-11-30T09:14:18.551403",
     "exception": false,
     "start_time": "2022-11-30T09:14:18.518537",
     "status": "completed"
    },
    "tags": []
   },
   "source": [
    "It was determined that the missing values ​​in the TotalChanges variable were caused by the tenure variable. It has been observed that the total amount collected from the customer comes as NaN when the number of months the customer has stayed in the company is zero. Afterwards, the monthly amounts collected from the customer were examined and it was seen that they were full. In order to solve the problem, NaN values ​​are filled with monthly values."
   ]
  },
  {
   "cell_type": "code",
   "execution_count": 29,
   "metadata": {
    "execution": {
     "iopub.execute_input": "2022-11-30T09:14:18.624823Z",
     "iopub.status.busy": "2022-11-30T09:14:18.624377Z",
     "iopub.status.idle": "2022-11-30T09:14:18.641164Z",
     "shell.execute_reply": "2022-11-30T09:14:18.639753Z"
    },
    "papermill": {
     "duration": 0.056444,
     "end_time": "2022-11-30T09:14:18.644112",
     "exception": false,
     "start_time": "2022-11-30T09:14:18.587668",
     "status": "completed"
    },
    "tags": []
   },
   "outputs": [
    {
     "data": {
      "text/plain": [
       "488    NaN\n",
       "753    NaN\n",
       "936    NaN\n",
       "1082   NaN\n",
       "1340   NaN\n",
       "3331   NaN\n",
       "3826   NaN\n",
       "4380   NaN\n",
       "5218   NaN\n",
       "6670   NaN\n",
       "6754   NaN\n",
       "Name: TotalCharges, dtype: float64"
      ]
     },
     "execution_count": 29,
     "metadata": {},
     "output_type": "execute_result"
    }
   ],
   "source": [
    "df.loc[df.isnull().any(axis=1),\"TotalCharges\"]"
   ]
  },
  {
   "cell_type": "code",
   "execution_count": 30,
   "metadata": {
    "execution": {
     "iopub.execute_input": "2022-11-30T09:14:18.718620Z",
     "iopub.status.busy": "2022-11-30T09:14:18.717199Z",
     "iopub.status.idle": "2022-11-30T09:14:18.736379Z",
     "shell.execute_reply": "2022-11-30T09:14:18.734463Z"
    },
    "papermill": {
     "duration": 0.059212,
     "end_time": "2022-11-30T09:14:18.738990",
     "exception": false,
     "start_time": "2022-11-30T09:14:18.679778",
     "status": "completed"
    },
    "tags": []
   },
   "outputs": [
    {
     "data": {
      "text/plain": [
       "Int64Index([488, 753, 936, 1082, 1340, 3331, 3826, 4380, 5218, 6670, 6754], dtype='int64')"
      ]
     },
     "execution_count": 30,
     "metadata": {},
     "output_type": "execute_result"
    }
   ],
   "source": [
    "na_index = df.loc[df.isnull().any(axis=1),\"TotalCharges\"].index\n",
    "\n",
    "na_index"
   ]
  },
  {
   "cell_type": "code",
   "execution_count": 31,
   "metadata": {
    "execution": {
     "iopub.execute_input": "2022-11-30T09:14:18.813018Z",
     "iopub.status.busy": "2022-11-30T09:14:18.812595Z",
     "iopub.status.idle": "2022-11-30T09:14:18.840650Z",
     "shell.execute_reply": "2022-11-30T09:14:18.839328Z"
    },
    "papermill": {
     "duration": 0.069542,
     "end_time": "2022-11-30T09:14:18.843985",
     "exception": false,
     "start_time": "2022-11-30T09:14:18.774443",
     "status": "completed"
    },
    "tags": []
   },
   "outputs": [
    {
     "data": {
      "text/html": [
       "<div>\n",
       "<style scoped>\n",
       "    .dataframe tbody tr th:only-of-type {\n",
       "        vertical-align: middle;\n",
       "    }\n",
       "\n",
       "    .dataframe tbody tr th {\n",
       "        vertical-align: top;\n",
       "    }\n",
       "\n",
       "    .dataframe thead th {\n",
       "        text-align: right;\n",
       "    }\n",
       "</style>\n",
       "<table border=\"1\" class=\"dataframe\">\n",
       "  <thead>\n",
       "    <tr style=\"text-align: right;\">\n",
       "      <th></th>\n",
       "      <th>customerID</th>\n",
       "      <th>gender</th>\n",
       "      <th>SeniorCitizen</th>\n",
       "      <th>Partner</th>\n",
       "      <th>Dependents</th>\n",
       "      <th>tenure</th>\n",
       "      <th>PhoneService</th>\n",
       "      <th>MultipleLines</th>\n",
       "      <th>InternetService</th>\n",
       "      <th>OnlineSecurity</th>\n",
       "      <th>OnlineBackup</th>\n",
       "      <th>DeviceProtection</th>\n",
       "      <th>TechSupport</th>\n",
       "      <th>StreamingTV</th>\n",
       "      <th>StreamingMovies</th>\n",
       "      <th>Contract</th>\n",
       "      <th>PaperlessBilling</th>\n",
       "      <th>PaymentMethod</th>\n",
       "      <th>MonthlyCharges</th>\n",
       "      <th>TotalCharges</th>\n",
       "      <th>Churn</th>\n",
       "    </tr>\n",
       "  </thead>\n",
       "  <tbody>\n",
       "    <tr>\n",
       "      <th>488</th>\n",
       "      <td>4472-LVYGI</td>\n",
       "      <td>Female</td>\n",
       "      <td>0</td>\n",
       "      <td>Yes</td>\n",
       "      <td>Yes</td>\n",
       "      <td>0</td>\n",
       "      <td>No</td>\n",
       "      <td>No phone service</td>\n",
       "      <td>DSL</td>\n",
       "      <td>Yes</td>\n",
       "      <td>No</td>\n",
       "      <td>Yes</td>\n",
       "      <td>Yes</td>\n",
       "      <td>Yes</td>\n",
       "      <td>No</td>\n",
       "      <td>Two year</td>\n",
       "      <td>Yes</td>\n",
       "      <td>Bank transfer (automatic)</td>\n",
       "      <td>52.55</td>\n",
       "      <td>NaN</td>\n",
       "      <td>0</td>\n",
       "    </tr>\n",
       "    <tr>\n",
       "      <th>753</th>\n",
       "      <td>3115-CZMZD</td>\n",
       "      <td>Male</td>\n",
       "      <td>0</td>\n",
       "      <td>No</td>\n",
       "      <td>Yes</td>\n",
       "      <td>0</td>\n",
       "      <td>Yes</td>\n",
       "      <td>No</td>\n",
       "      <td>No</td>\n",
       "      <td>No internet service</td>\n",
       "      <td>No internet service</td>\n",
       "      <td>No internet service</td>\n",
       "      <td>No internet service</td>\n",
       "      <td>No internet service</td>\n",
       "      <td>No internet service</td>\n",
       "      <td>Two year</td>\n",
       "      <td>No</td>\n",
       "      <td>Mailed check</td>\n",
       "      <td>20.25</td>\n",
       "      <td>NaN</td>\n",
       "      <td>0</td>\n",
       "    </tr>\n",
       "    <tr>\n",
       "      <th>936</th>\n",
       "      <td>5709-LVOEQ</td>\n",
       "      <td>Female</td>\n",
       "      <td>0</td>\n",
       "      <td>Yes</td>\n",
       "      <td>Yes</td>\n",
       "      <td>0</td>\n",
       "      <td>Yes</td>\n",
       "      <td>No</td>\n",
       "      <td>DSL</td>\n",
       "      <td>Yes</td>\n",
       "      <td>Yes</td>\n",
       "      <td>Yes</td>\n",
       "      <td>No</td>\n",
       "      <td>Yes</td>\n",
       "      <td>Yes</td>\n",
       "      <td>Two year</td>\n",
       "      <td>No</td>\n",
       "      <td>Mailed check</td>\n",
       "      <td>80.85</td>\n",
       "      <td>NaN</td>\n",
       "      <td>0</td>\n",
       "    </tr>\n",
       "    <tr>\n",
       "      <th>1082</th>\n",
       "      <td>4367-NUYAO</td>\n",
       "      <td>Male</td>\n",
       "      <td>0</td>\n",
       "      <td>Yes</td>\n",
       "      <td>Yes</td>\n",
       "      <td>0</td>\n",
       "      <td>Yes</td>\n",
       "      <td>Yes</td>\n",
       "      <td>No</td>\n",
       "      <td>No internet service</td>\n",
       "      <td>No internet service</td>\n",
       "      <td>No internet service</td>\n",
       "      <td>No internet service</td>\n",
       "      <td>No internet service</td>\n",
       "      <td>No internet service</td>\n",
       "      <td>Two year</td>\n",
       "      <td>No</td>\n",
       "      <td>Mailed check</td>\n",
       "      <td>25.75</td>\n",
       "      <td>NaN</td>\n",
       "      <td>0</td>\n",
       "    </tr>\n",
       "    <tr>\n",
       "      <th>1340</th>\n",
       "      <td>1371-DWPAZ</td>\n",
       "      <td>Female</td>\n",
       "      <td>0</td>\n",
       "      <td>Yes</td>\n",
       "      <td>Yes</td>\n",
       "      <td>0</td>\n",
       "      <td>No</td>\n",
       "      <td>No phone service</td>\n",
       "      <td>DSL</td>\n",
       "      <td>Yes</td>\n",
       "      <td>Yes</td>\n",
       "      <td>Yes</td>\n",
       "      <td>Yes</td>\n",
       "      <td>Yes</td>\n",
       "      <td>No</td>\n",
       "      <td>Two year</td>\n",
       "      <td>No</td>\n",
       "      <td>Credit card (automatic)</td>\n",
       "      <td>56.05</td>\n",
       "      <td>NaN</td>\n",
       "      <td>0</td>\n",
       "    </tr>\n",
       "    <tr>\n",
       "      <th>3331</th>\n",
       "      <td>7644-OMVMY</td>\n",
       "      <td>Male</td>\n",
       "      <td>0</td>\n",
       "      <td>Yes</td>\n",
       "      <td>Yes</td>\n",
       "      <td>0</td>\n",
       "      <td>Yes</td>\n",
       "      <td>No</td>\n",
       "      <td>No</td>\n",
       "      <td>No internet service</td>\n",
       "      <td>No internet service</td>\n",
       "      <td>No internet service</td>\n",
       "      <td>No internet service</td>\n",
       "      <td>No internet service</td>\n",
       "      <td>No internet service</td>\n",
       "      <td>Two year</td>\n",
       "      <td>No</td>\n",
       "      <td>Mailed check</td>\n",
       "      <td>19.85</td>\n",
       "      <td>NaN</td>\n",
       "      <td>0</td>\n",
       "    </tr>\n",
       "    <tr>\n",
       "      <th>3826</th>\n",
       "      <td>3213-VVOLG</td>\n",
       "      <td>Male</td>\n",
       "      <td>0</td>\n",
       "      <td>Yes</td>\n",
       "      <td>Yes</td>\n",
       "      <td>0</td>\n",
       "      <td>Yes</td>\n",
       "      <td>Yes</td>\n",
       "      <td>No</td>\n",
       "      <td>No internet service</td>\n",
       "      <td>No internet service</td>\n",
       "      <td>No internet service</td>\n",
       "      <td>No internet service</td>\n",
       "      <td>No internet service</td>\n",
       "      <td>No internet service</td>\n",
       "      <td>Two year</td>\n",
       "      <td>No</td>\n",
       "      <td>Mailed check</td>\n",
       "      <td>25.35</td>\n",
       "      <td>NaN</td>\n",
       "      <td>0</td>\n",
       "    </tr>\n",
       "    <tr>\n",
       "      <th>4380</th>\n",
       "      <td>2520-SGTTA</td>\n",
       "      <td>Female</td>\n",
       "      <td>0</td>\n",
       "      <td>Yes</td>\n",
       "      <td>Yes</td>\n",
       "      <td>0</td>\n",
       "      <td>Yes</td>\n",
       "      <td>No</td>\n",
       "      <td>No</td>\n",
       "      <td>No internet service</td>\n",
       "      <td>No internet service</td>\n",
       "      <td>No internet service</td>\n",
       "      <td>No internet service</td>\n",
       "      <td>No internet service</td>\n",
       "      <td>No internet service</td>\n",
       "      <td>Two year</td>\n",
       "      <td>No</td>\n",
       "      <td>Mailed check</td>\n",
       "      <td>20.00</td>\n",
       "      <td>NaN</td>\n",
       "      <td>0</td>\n",
       "    </tr>\n",
       "    <tr>\n",
       "      <th>5218</th>\n",
       "      <td>2923-ARZLG</td>\n",
       "      <td>Male</td>\n",
       "      <td>0</td>\n",
       "      <td>Yes</td>\n",
       "      <td>Yes</td>\n",
       "      <td>0</td>\n",
       "      <td>Yes</td>\n",
       "      <td>No</td>\n",
       "      <td>No</td>\n",
       "      <td>No internet service</td>\n",
       "      <td>No internet service</td>\n",
       "      <td>No internet service</td>\n",
       "      <td>No internet service</td>\n",
       "      <td>No internet service</td>\n",
       "      <td>No internet service</td>\n",
       "      <td>One year</td>\n",
       "      <td>Yes</td>\n",
       "      <td>Mailed check</td>\n",
       "      <td>19.70</td>\n",
       "      <td>NaN</td>\n",
       "      <td>0</td>\n",
       "    </tr>\n",
       "    <tr>\n",
       "      <th>6670</th>\n",
       "      <td>4075-WKNIU</td>\n",
       "      <td>Female</td>\n",
       "      <td>0</td>\n",
       "      <td>Yes</td>\n",
       "      <td>Yes</td>\n",
       "      <td>0</td>\n",
       "      <td>Yes</td>\n",
       "      <td>Yes</td>\n",
       "      <td>DSL</td>\n",
       "      <td>No</td>\n",
       "      <td>Yes</td>\n",
       "      <td>Yes</td>\n",
       "      <td>Yes</td>\n",
       "      <td>Yes</td>\n",
       "      <td>No</td>\n",
       "      <td>Two year</td>\n",
       "      <td>No</td>\n",
       "      <td>Mailed check</td>\n",
       "      <td>73.35</td>\n",
       "      <td>NaN</td>\n",
       "      <td>0</td>\n",
       "    </tr>\n",
       "    <tr>\n",
       "      <th>6754</th>\n",
       "      <td>2775-SEFEE</td>\n",
       "      <td>Male</td>\n",
       "      <td>0</td>\n",
       "      <td>No</td>\n",
       "      <td>Yes</td>\n",
       "      <td>0</td>\n",
       "      <td>Yes</td>\n",
       "      <td>Yes</td>\n",
       "      <td>DSL</td>\n",
       "      <td>Yes</td>\n",
       "      <td>Yes</td>\n",
       "      <td>No</td>\n",
       "      <td>Yes</td>\n",
       "      <td>No</td>\n",
       "      <td>No</td>\n",
       "      <td>Two year</td>\n",
       "      <td>Yes</td>\n",
       "      <td>Bank transfer (automatic)</td>\n",
       "      <td>61.90</td>\n",
       "      <td>NaN</td>\n",
       "      <td>0</td>\n",
       "    </tr>\n",
       "  </tbody>\n",
       "</table>\n",
       "</div>"
      ],
      "text/plain": [
       "      customerID  gender  SeniorCitizen Partner Dependents  tenure  \\\n",
       "488   4472-LVYGI  Female              0     Yes        Yes       0   \n",
       "753   3115-CZMZD    Male              0      No        Yes       0   \n",
       "936   5709-LVOEQ  Female              0     Yes        Yes       0   \n",
       "1082  4367-NUYAO    Male              0     Yes        Yes       0   \n",
       "1340  1371-DWPAZ  Female              0     Yes        Yes       0   \n",
       "3331  7644-OMVMY    Male              0     Yes        Yes       0   \n",
       "3826  3213-VVOLG    Male              0     Yes        Yes       0   \n",
       "4380  2520-SGTTA  Female              0     Yes        Yes       0   \n",
       "5218  2923-ARZLG    Male              0     Yes        Yes       0   \n",
       "6670  4075-WKNIU  Female              0     Yes        Yes       0   \n",
       "6754  2775-SEFEE    Male              0      No        Yes       0   \n",
       "\n",
       "     PhoneService     MultipleLines InternetService       OnlineSecurity  \\\n",
       "488            No  No phone service             DSL                  Yes   \n",
       "753           Yes                No              No  No internet service   \n",
       "936           Yes                No             DSL                  Yes   \n",
       "1082          Yes               Yes              No  No internet service   \n",
       "1340           No  No phone service             DSL                  Yes   \n",
       "3331          Yes                No              No  No internet service   \n",
       "3826          Yes               Yes              No  No internet service   \n",
       "4380          Yes                No              No  No internet service   \n",
       "5218          Yes                No              No  No internet service   \n",
       "6670          Yes               Yes             DSL                   No   \n",
       "6754          Yes               Yes             DSL                  Yes   \n",
       "\n",
       "             OnlineBackup     DeviceProtection          TechSupport  \\\n",
       "488                    No                  Yes                  Yes   \n",
       "753   No internet service  No internet service  No internet service   \n",
       "936                   Yes                  Yes                   No   \n",
       "1082  No internet service  No internet service  No internet service   \n",
       "1340                  Yes                  Yes                  Yes   \n",
       "3331  No internet service  No internet service  No internet service   \n",
       "3826  No internet service  No internet service  No internet service   \n",
       "4380  No internet service  No internet service  No internet service   \n",
       "5218  No internet service  No internet service  No internet service   \n",
       "6670                  Yes                  Yes                  Yes   \n",
       "6754                  Yes                   No                  Yes   \n",
       "\n",
       "              StreamingTV      StreamingMovies  Contract PaperlessBilling  \\\n",
       "488                   Yes                   No  Two year              Yes   \n",
       "753   No internet service  No internet service  Two year               No   \n",
       "936                   Yes                  Yes  Two year               No   \n",
       "1082  No internet service  No internet service  Two year               No   \n",
       "1340                  Yes                   No  Two year               No   \n",
       "3331  No internet service  No internet service  Two year               No   \n",
       "3826  No internet service  No internet service  Two year               No   \n",
       "4380  No internet service  No internet service  Two year               No   \n",
       "5218  No internet service  No internet service  One year              Yes   \n",
       "6670                  Yes                   No  Two year               No   \n",
       "6754                   No                   No  Two year              Yes   \n",
       "\n",
       "                  PaymentMethod  MonthlyCharges  TotalCharges  Churn  \n",
       "488   Bank transfer (automatic)           52.55           NaN      0  \n",
       "753                Mailed check           20.25           NaN      0  \n",
       "936                Mailed check           80.85           NaN      0  \n",
       "1082               Mailed check           25.75           NaN      0  \n",
       "1340    Credit card (automatic)           56.05           NaN      0  \n",
       "3331               Mailed check           19.85           NaN      0  \n",
       "3826               Mailed check           25.35           NaN      0  \n",
       "4380               Mailed check           20.00           NaN      0  \n",
       "5218               Mailed check           19.70           NaN      0  \n",
       "6670               Mailed check           73.35           NaN      0  \n",
       "6754  Bank transfer (automatic)           61.90           NaN      0  "
      ]
     },
     "execution_count": 31,
     "metadata": {},
     "output_type": "execute_result"
    }
   ],
   "source": [
    "df.loc[na_index]"
   ]
  },
  {
   "cell_type": "code",
   "execution_count": 32,
   "metadata": {
    "execution": {
     "iopub.execute_input": "2022-11-30T09:14:18.917868Z",
     "iopub.status.busy": "2022-11-30T09:14:18.917369Z",
     "iopub.status.idle": "2022-11-30T09:14:18.926878Z",
     "shell.execute_reply": "2022-11-30T09:14:18.925570Z"
    },
    "papermill": {
     "duration": 0.05043,
     "end_time": "2022-11-30T09:14:18.929427",
     "exception": false,
     "start_time": "2022-11-30T09:14:18.878997",
     "status": "completed"
    },
    "tags": []
   },
   "outputs": [
    {
     "data": {
      "text/plain": [
       "488     0\n",
       "753     0\n",
       "936     0\n",
       "1082    0\n",
       "1340    0\n",
       "3331    0\n",
       "3826    0\n",
       "4380    0\n",
       "5218    0\n",
       "6670    0\n",
       "6754    0\n",
       "Name: tenure, dtype: int64"
      ]
     },
     "execution_count": 32,
     "metadata": {},
     "output_type": "execute_result"
    }
   ],
   "source": [
    "df.loc[df[\"tenure\"] == 0,\"tenure\"]"
   ]
  },
  {
   "cell_type": "code",
   "execution_count": 33,
   "metadata": {
    "execution": {
     "iopub.execute_input": "2022-11-30T09:14:19.004357Z",
     "iopub.status.busy": "2022-11-30T09:14:19.003127Z",
     "iopub.status.idle": "2022-11-30T09:14:19.019909Z",
     "shell.execute_reply": "2022-11-30T09:14:19.017922Z"
    },
    "papermill": {
     "duration": 0.057266,
     "end_time": "2022-11-30T09:14:19.023284",
     "exception": false,
     "start_time": "2022-11-30T09:14:18.966018",
     "status": "completed"
    },
    "tags": []
   },
   "outputs": [
    {
     "data": {
      "text/html": [
       "<div>\n",
       "<style scoped>\n",
       "    .dataframe tbody tr th:only-of-type {\n",
       "        vertical-align: middle;\n",
       "    }\n",
       "\n",
       "    .dataframe tbody tr th {\n",
       "        vertical-align: top;\n",
       "    }\n",
       "\n",
       "    .dataframe thead th {\n",
       "        text-align: right;\n",
       "    }\n",
       "</style>\n",
       "<table border=\"1\" class=\"dataframe\">\n",
       "  <thead>\n",
       "    <tr style=\"text-align: right;\">\n",
       "      <th></th>\n",
       "      <th>tenure</th>\n",
       "      <th>TotalCharges</th>\n",
       "    </tr>\n",
       "  </thead>\n",
       "  <tbody>\n",
       "    <tr>\n",
       "      <th>488</th>\n",
       "      <td>0</td>\n",
       "      <td>NaN</td>\n",
       "    </tr>\n",
       "    <tr>\n",
       "      <th>753</th>\n",
       "      <td>0</td>\n",
       "      <td>NaN</td>\n",
       "    </tr>\n",
       "    <tr>\n",
       "      <th>936</th>\n",
       "      <td>0</td>\n",
       "      <td>NaN</td>\n",
       "    </tr>\n",
       "    <tr>\n",
       "      <th>1082</th>\n",
       "      <td>0</td>\n",
       "      <td>NaN</td>\n",
       "    </tr>\n",
       "    <tr>\n",
       "      <th>1340</th>\n",
       "      <td>0</td>\n",
       "      <td>NaN</td>\n",
       "    </tr>\n",
       "    <tr>\n",
       "      <th>3331</th>\n",
       "      <td>0</td>\n",
       "      <td>NaN</td>\n",
       "    </tr>\n",
       "    <tr>\n",
       "      <th>3826</th>\n",
       "      <td>0</td>\n",
       "      <td>NaN</td>\n",
       "    </tr>\n",
       "    <tr>\n",
       "      <th>4380</th>\n",
       "      <td>0</td>\n",
       "      <td>NaN</td>\n",
       "    </tr>\n",
       "    <tr>\n",
       "      <th>5218</th>\n",
       "      <td>0</td>\n",
       "      <td>NaN</td>\n",
       "    </tr>\n",
       "    <tr>\n",
       "      <th>6670</th>\n",
       "      <td>0</td>\n",
       "      <td>NaN</td>\n",
       "    </tr>\n",
       "    <tr>\n",
       "      <th>6754</th>\n",
       "      <td>0</td>\n",
       "      <td>NaN</td>\n",
       "    </tr>\n",
       "  </tbody>\n",
       "</table>\n",
       "</div>"
      ],
      "text/plain": [
       "      tenure  TotalCharges\n",
       "488        0           NaN\n",
       "753        0           NaN\n",
       "936        0           NaN\n",
       "1082       0           NaN\n",
       "1340       0           NaN\n",
       "3331       0           NaN\n",
       "3826       0           NaN\n",
       "4380       0           NaN\n",
       "5218       0           NaN\n",
       "6670       0           NaN\n",
       "6754       0           NaN"
      ]
     },
     "execution_count": 33,
     "metadata": {},
     "output_type": "execute_result"
    }
   ],
   "source": [
    "df.loc[na_index,[\"tenure\",\"TotalCharges\"]]"
   ]
  },
  {
   "cell_type": "code",
   "execution_count": 34,
   "metadata": {
    "execution": {
     "iopub.execute_input": "2022-11-30T09:14:19.096173Z",
     "iopub.status.busy": "2022-11-30T09:14:19.095771Z",
     "iopub.status.idle": "2022-11-30T09:14:19.105118Z",
     "shell.execute_reply": "2022-11-30T09:14:19.103767Z"
    },
    "papermill": {
     "duration": 0.049886,
     "end_time": "2022-11-30T09:14:19.107694",
     "exception": false,
     "start_time": "2022-11-30T09:14:19.057808",
     "status": "completed"
    },
    "tags": []
   },
   "outputs": [
    {
     "data": {
      "text/plain": [
       "488     52.55\n",
       "753     20.25\n",
       "936     80.85\n",
       "1082    25.75\n",
       "1340    56.05\n",
       "3331    19.85\n",
       "3826    25.35\n",
       "4380    20.00\n",
       "5218    19.70\n",
       "6670    73.35\n",
       "6754    61.90\n",
       "Name: MonthlyCharges, dtype: float64"
      ]
     },
     "execution_count": 34,
     "metadata": {},
     "output_type": "execute_result"
    }
   ],
   "source": [
    "df.loc[na_index,\"MonthlyCharges\"]"
   ]
  },
  {
   "cell_type": "code",
   "execution_count": 35,
   "metadata": {
    "execution": {
     "iopub.execute_input": "2022-11-30T09:14:19.182447Z",
     "iopub.status.busy": "2022-11-30T09:14:19.181810Z",
     "iopub.status.idle": "2022-11-30T09:14:19.189478Z",
     "shell.execute_reply": "2022-11-30T09:14:19.188545Z"
    },
    "papermill": {
     "duration": 0.048061,
     "end_time": "2022-11-30T09:14:19.191877",
     "exception": false,
     "start_time": "2022-11-30T09:14:19.143816",
     "status": "completed"
    },
    "tags": []
   },
   "outputs": [],
   "source": [
    "df.loc[na_index,\"TotalCharges\"] = df.loc[na_index,\"MonthlyCharges\"]"
   ]
  },
  {
   "cell_type": "code",
   "execution_count": 36,
   "metadata": {
    "execution": {
     "iopub.execute_input": "2022-11-30T09:14:19.267406Z",
     "iopub.status.busy": "2022-11-30T09:14:19.265656Z",
     "iopub.status.idle": "2022-11-30T09:14:19.282801Z",
     "shell.execute_reply": "2022-11-30T09:14:19.281154Z"
    },
    "papermill": {
     "duration": 0.059758,
     "end_time": "2022-11-30T09:14:19.287469",
     "exception": false,
     "start_time": "2022-11-30T09:14:19.227711",
     "status": "completed"
    },
    "tags": []
   },
   "outputs": [
    {
     "data": {
      "text/html": [
       "<div>\n",
       "<style scoped>\n",
       "    .dataframe tbody tr th:only-of-type {\n",
       "        vertical-align: middle;\n",
       "    }\n",
       "\n",
       "    .dataframe tbody tr th {\n",
       "        vertical-align: top;\n",
       "    }\n",
       "\n",
       "    .dataframe thead th {\n",
       "        text-align: right;\n",
       "    }\n",
       "</style>\n",
       "<table border=\"1\" class=\"dataframe\">\n",
       "  <thead>\n",
       "    <tr style=\"text-align: right;\">\n",
       "      <th></th>\n",
       "      <th>tenure</th>\n",
       "      <th>TotalCharges</th>\n",
       "      <th>MonthlyCharges</th>\n",
       "    </tr>\n",
       "  </thead>\n",
       "  <tbody>\n",
       "    <tr>\n",
       "      <th>488</th>\n",
       "      <td>0</td>\n",
       "      <td>52.55</td>\n",
       "      <td>52.55</td>\n",
       "    </tr>\n",
       "    <tr>\n",
       "      <th>753</th>\n",
       "      <td>0</td>\n",
       "      <td>20.25</td>\n",
       "      <td>20.25</td>\n",
       "    </tr>\n",
       "    <tr>\n",
       "      <th>936</th>\n",
       "      <td>0</td>\n",
       "      <td>80.85</td>\n",
       "      <td>80.85</td>\n",
       "    </tr>\n",
       "    <tr>\n",
       "      <th>1082</th>\n",
       "      <td>0</td>\n",
       "      <td>25.75</td>\n",
       "      <td>25.75</td>\n",
       "    </tr>\n",
       "    <tr>\n",
       "      <th>1340</th>\n",
       "      <td>0</td>\n",
       "      <td>56.05</td>\n",
       "      <td>56.05</td>\n",
       "    </tr>\n",
       "    <tr>\n",
       "      <th>3331</th>\n",
       "      <td>0</td>\n",
       "      <td>19.85</td>\n",
       "      <td>19.85</td>\n",
       "    </tr>\n",
       "    <tr>\n",
       "      <th>3826</th>\n",
       "      <td>0</td>\n",
       "      <td>25.35</td>\n",
       "      <td>25.35</td>\n",
       "    </tr>\n",
       "    <tr>\n",
       "      <th>4380</th>\n",
       "      <td>0</td>\n",
       "      <td>20.00</td>\n",
       "      <td>20.00</td>\n",
       "    </tr>\n",
       "    <tr>\n",
       "      <th>5218</th>\n",
       "      <td>0</td>\n",
       "      <td>19.70</td>\n",
       "      <td>19.70</td>\n",
       "    </tr>\n",
       "    <tr>\n",
       "      <th>6670</th>\n",
       "      <td>0</td>\n",
       "      <td>73.35</td>\n",
       "      <td>73.35</td>\n",
       "    </tr>\n",
       "    <tr>\n",
       "      <th>6754</th>\n",
       "      <td>0</td>\n",
       "      <td>61.90</td>\n",
       "      <td>61.90</td>\n",
       "    </tr>\n",
       "  </tbody>\n",
       "</table>\n",
       "</div>"
      ],
      "text/plain": [
       "      tenure  TotalCharges  MonthlyCharges\n",
       "488        0         52.55           52.55\n",
       "753        0         20.25           20.25\n",
       "936        0         80.85           80.85\n",
       "1082       0         25.75           25.75\n",
       "1340       0         56.05           56.05\n",
       "3331       0         19.85           19.85\n",
       "3826       0         25.35           25.35\n",
       "4380       0         20.00           20.00\n",
       "5218       0         19.70           19.70\n",
       "6670       0         73.35           73.35\n",
       "6754       0         61.90           61.90"
      ]
     },
     "execution_count": 36,
     "metadata": {},
     "output_type": "execute_result"
    }
   ],
   "source": [
    "df.loc[na_index,[\"tenure\",\"TotalCharges\",\"MonthlyCharges\"]]"
   ]
  },
  {
   "cell_type": "code",
   "execution_count": 37,
   "metadata": {
    "execution": {
     "iopub.execute_input": "2022-11-30T09:14:19.363100Z",
     "iopub.status.busy": "2022-11-30T09:14:19.362595Z",
     "iopub.status.idle": "2022-11-30T09:14:19.388756Z",
     "shell.execute_reply": "2022-11-30T09:14:19.386661Z"
    },
    "papermill": {
     "duration": 0.067653,
     "end_time": "2022-11-30T09:14:19.391825",
     "exception": false,
     "start_time": "2022-11-30T09:14:19.324172",
     "status": "completed"
    },
    "tags": []
   },
   "outputs": [
    {
     "name": "stdout",
     "output_type": "stream",
     "text": [
      "Empty DataFrame\n",
      "Columns: [n_miss, ratio]\n",
      "Index: []\n"
     ]
    },
    {
     "data": {
      "text/plain": [
       "[]"
      ]
     },
     "execution_count": 37,
     "metadata": {},
     "output_type": "execute_result"
    }
   ],
   "source": [
    "missing_values_table(df, True)"
   ]
  },
  {
   "cell_type": "markdown",
   "metadata": {
    "papermill": {
     "duration": 0.035901,
     "end_time": "2022-11-30T09:14:19.464957",
     "exception": false,
     "start_time": "2022-11-30T09:14:19.429056",
     "status": "completed"
    },
    "tags": []
   },
   "source": [
    "# Correlation Analysis"
   ]
  },
  {
   "cell_type": "markdown",
   "metadata": {
    "papermill": {
     "duration": 0.034125,
     "end_time": "2022-11-30T09:14:19.534496",
     "exception": false,
     "start_time": "2022-11-30T09:14:19.500371",
     "status": "completed"
    },
    "tags": []
   },
   "source": [
    "Correlation analysis was performed. Correlation Heatmap and Triangle Correlation Heatmap were given."
   ]
  },
  {
   "cell_type": "code",
   "execution_count": 38,
   "metadata": {
    "execution": {
     "iopub.execute_input": "2022-11-30T09:14:19.605199Z",
     "iopub.status.busy": "2022-11-30T09:14:19.604532Z",
     "iopub.status.idle": "2022-11-30T09:14:19.612954Z",
     "shell.execute_reply": "2022-11-30T09:14:19.611788Z"
    },
    "papermill": {
     "duration": 0.047114,
     "end_time": "2022-11-30T09:14:19.615800",
     "exception": false,
     "start_time": "2022-11-30T09:14:19.568686",
     "status": "completed"
    },
    "tags": []
   },
   "outputs": [],
   "source": [
    "corr = df[num_cols].corr()"
   ]
  },
  {
   "cell_type": "code",
   "execution_count": 39,
   "metadata": {
    "execution": {
     "iopub.execute_input": "2022-11-30T09:14:19.690455Z",
     "iopub.status.busy": "2022-11-30T09:14:19.689102Z",
     "iopub.status.idle": "2022-11-30T09:14:19.702650Z",
     "shell.execute_reply": "2022-11-30T09:14:19.700828Z"
    },
    "papermill": {
     "duration": 0.055081,
     "end_time": "2022-11-30T09:14:19.705603",
     "exception": false,
     "start_time": "2022-11-30T09:14:19.650522",
     "status": "completed"
    },
    "tags": []
   },
   "outputs": [
    {
     "data": {
      "text/html": [
       "<div>\n",
       "<style scoped>\n",
       "    .dataframe tbody tr th:only-of-type {\n",
       "        vertical-align: middle;\n",
       "    }\n",
       "\n",
       "    .dataframe tbody tr th {\n",
       "        vertical-align: top;\n",
       "    }\n",
       "\n",
       "    .dataframe thead th {\n",
       "        text-align: right;\n",
       "    }\n",
       "</style>\n",
       "<table border=\"1\" class=\"dataframe\">\n",
       "  <thead>\n",
       "    <tr style=\"text-align: right;\">\n",
       "      <th></th>\n",
       "      <th>tenure</th>\n",
       "      <th>MonthlyCharges</th>\n",
       "      <th>TotalCharges</th>\n",
       "    </tr>\n",
       "  </thead>\n",
       "  <tbody>\n",
       "    <tr>\n",
       "      <th>tenure</th>\n",
       "      <td>1.000000</td>\n",
       "      <td>0.247900</td>\n",
       "      <td>0.826164</td>\n",
       "    </tr>\n",
       "    <tr>\n",
       "      <th>MonthlyCharges</th>\n",
       "      <td>0.247900</td>\n",
       "      <td>1.000000</td>\n",
       "      <td>0.651182</td>\n",
       "    </tr>\n",
       "    <tr>\n",
       "      <th>TotalCharges</th>\n",
       "      <td>0.826164</td>\n",
       "      <td>0.651182</td>\n",
       "      <td>1.000000</td>\n",
       "    </tr>\n",
       "  </tbody>\n",
       "</table>\n",
       "</div>"
      ],
      "text/plain": [
       "                  tenure  MonthlyCharges  TotalCharges\n",
       "tenure          1.000000        0.247900      0.826164\n",
       "MonthlyCharges  0.247900        1.000000      0.651182\n",
       "TotalCharges    0.826164        0.651182      1.000000"
      ]
     },
     "execution_count": 39,
     "metadata": {},
     "output_type": "execute_result"
    }
   ],
   "source": [
    "corr"
   ]
  },
  {
   "cell_type": "code",
   "execution_count": 40,
   "metadata": {
    "execution": {
     "iopub.execute_input": "2022-11-30T09:14:19.779191Z",
     "iopub.status.busy": "2022-11-30T09:14:19.778771Z",
     "iopub.status.idle": "2022-11-30T09:14:20.110575Z",
     "shell.execute_reply": "2022-11-30T09:14:20.109202Z"
    },
    "papermill": {
     "duration": 0.373124,
     "end_time": "2022-11-30T09:14:20.113388",
     "exception": false,
     "start_time": "2022-11-30T09:14:19.740264",
     "status": "completed"
    },
    "tags": []
   },
   "outputs": [
    {
     "data": {
      "image/png": "[encoded data removed]",
      "text/plain": [
       "<Figure size 432x288 with 2 Axes>"
      ]
     },
     "metadata": {
      "needs_background": "light"
     },
     "output_type": "display_data"
    }
   ],
   "source": [
    "heatmap = sns.heatmap(corr, cmap=\"RdBu\", vmin=-1, vmax=1, annot=True)\n",
    "heatmap.set_title('Correlation Heatmap', fontdict={'fontsize':20}, pad=15);"
   ]
  },
  {
   "cell_type": "code",
   "execution_count": 41,
   "metadata": {
    "execution": {
     "iopub.execute_input": "2022-11-30T09:14:20.195284Z",
     "iopub.status.busy": "2022-11-30T09:14:20.194829Z",
     "iopub.status.idle": "2022-11-30T09:14:20.204624Z",
     "shell.execute_reply": "2022-11-30T09:14:20.203661Z"
    },
    "papermill": {
     "duration": 0.053159,
     "end_time": "2022-11-30T09:14:20.206965",
     "exception": false,
     "start_time": "2022-11-30T09:14:20.153806",
     "status": "completed"
    },
    "tags": []
   },
   "outputs": [
    {
     "name": "stderr",
     "output_type": "stream",
     "text": [
      "/opt/conda/lib/python3.7/site-packages/ipykernel_launcher.py:1: DeprecationWarning: `np.bool` is a deprecated alias for the builtin `bool`. To silence this warning, use `bool` by itself. Doing this will not modify any behavior and is safe. If you specifically wanted the numpy scalar type, use `np.bool_` here.\n",
      "Deprecated in NumPy 1.20; for more details and guidance: https://numpy.org/devdocs/release/1.20.0-notes.html#deprecations\n",
      "  \"\"\"Entry point for launching an IPython kernel.\n"
     ]
    },
    {
     "data": {
      "text/plain": [
       "array([[ True,  True,  True],\n",
       "       [False,  True,  True],\n",
       "       [False, False,  True]])"
      ]
     },
     "execution_count": 41,
     "metadata": {},
     "output_type": "execute_result"
    }
   ],
   "source": [
    "mask = np.triu(np.ones_like(corr, dtype=np.bool))\n",
    "mask"
   ]
  },
  {
   "cell_type": "code",
   "execution_count": 42,
   "metadata": {
    "execution": {
     "iopub.execute_input": "2022-11-30T09:14:20.284455Z",
     "iopub.status.busy": "2022-11-30T09:14:20.283636Z",
     "iopub.status.idle": "2022-11-30T09:14:20.619636Z",
     "shell.execute_reply": "2022-11-30T09:14:20.618014Z"
    },
    "papermill": {
     "duration": 0.378162,
     "end_time": "2022-11-30T09:14:20.623142",
     "exception": false,
     "start_time": "2022-11-30T09:14:20.244980",
     "status": "completed"
    },
    "tags": []
   },
   "outputs": [
    {
     "data": {
      "text/plain": [
       "Text(0.5, 1.0, 'Triangle Correlation Heatmap')"
      ]
     },
     "execution_count": 42,
     "metadata": {},
     "output_type": "execute_result"
    },
    {
     "data": {
      "image/png": "[encoded data removed]",
      "text/plain": [
       "<Figure size 432x288 with 2 Axes>"
      ]
     },
     "metadata": {
      "needs_background": "light"
     },
     "output_type": "display_data"
    }
   ],
   "source": [
    "heatmap = sns.heatmap(corr, mask=mask, vmin=-1, vmax=1, annot=True, cmap=\"RdBu\")\n",
    "heatmap.set_title('Triangle Correlation Heatmap', fontdict={'fontsize':20}, pad=15)"
   ]
  },
  {
   "cell_type": "markdown",
   "metadata": {
    "papermill": {
     "duration": 0.040986,
     "end_time": "2022-11-30T09:14:20.703042",
     "exception": false,
     "start_time": "2022-11-30T09:14:20.662056",
     "status": "completed"
    },
    "tags": []
   },
   "source": [
    "# Feature Extraction"
   ]
  },
  {
   "cell_type": "markdown",
   "metadata": {
    "papermill": {
     "duration": 0.039552,
     "end_time": "2022-11-30T09:14:20.782598",
     "exception": false,
     "start_time": "2022-11-30T09:14:20.743046",
     "status": "completed"
    },
    "tags": []
   },
   "source": [
    "New features will be created."
   ]
  },
  {
   "cell_type": "markdown",
   "metadata": {
    "papermill": {
     "duration": 0.039319,
     "end_time": "2022-11-30T09:14:20.859678",
     "exception": false,
     "start_time": "2022-11-30T09:14:20.820359",
     "status": "completed"
    },
    "tags": []
   },
   "source": [
    "**1 -** Customers for more than 1 year"
   ]
  },
  {
   "cell_type": "code",
   "execution_count": 43,
   "metadata": {
    "execution": {
     "iopub.execute_input": "2022-11-30T09:14:20.938220Z",
     "iopub.status.busy": "2022-11-30T09:14:20.936932Z",
     "iopub.status.idle": "2022-11-30T09:14:20.948622Z",
     "shell.execute_reply": "2022-11-30T09:14:20.947331Z"
    },
    "papermill": {
     "duration": 0.055006,
     "end_time": "2022-11-30T09:14:20.951892",
     "exception": false,
     "start_time": "2022-11-30T09:14:20.896886",
     "status": "completed"
    },
    "tags": []
   },
   "outputs": [],
   "source": [
    "df[\"onePlusYearCustomer\"] = df[\"tenure\"].apply(lambda x : 1 if x > 12 else 0)"
   ]
  },
  {
   "cell_type": "markdown",
   "metadata": {
    "papermill": {
     "duration": 0.038715,
     "end_time": "2022-11-30T09:14:21.030175",
     "exception": false,
     "start_time": "2022-11-30T09:14:20.991460",
     "status": "completed"
    },
    "tags": []
   },
   "source": [
    "**2 -** Customers who have a month-to-month contract and have completed 1 year."
   ]
  },
  {
   "cell_type": "code",
   "execution_count": 44,
   "metadata": {
    "execution": {
     "iopub.execute_input": "2022-11-30T09:14:21.110527Z",
     "iopub.status.busy": "2022-11-30T09:14:21.110042Z",
     "iopub.status.idle": "2022-11-30T09:14:21.236530Z",
     "shell.execute_reply": "2022-11-30T09:14:21.235305Z"
    },
    "papermill": {
     "duration": 0.171202,
     "end_time": "2022-11-30T09:14:21.239394",
     "exception": false,
     "start_time": "2022-11-30T09:14:21.068192",
     "status": "completed"
    },
    "tags": []
   },
   "outputs": [],
   "source": [
    "df[\"onePlusYearCustomer_MonthlyContract\"] = df.apply(lambda x : 1 if(x[\"onePlusYearCustomer\"] == 1) & (x[\"Contract\"] == \"Month-to-month\") else 0, axis = 1)"
   ]
  },
  {
   "cell_type": "markdown",
   "metadata": {
    "papermill": {
     "duration": 0.037086,
     "end_time": "2022-11-30T09:14:21.312159",
     "exception": false,
     "start_time": "2022-11-30T09:14:21.275073",
     "status": "completed"
    },
    "tags": []
   },
   "source": [
    "**3 -** Whether the customer has internet service"
   ]
  },
  {
   "cell_type": "code",
   "execution_count": 45,
   "metadata": {
    "execution": {
     "iopub.execute_input": "2022-11-30T09:14:21.393384Z",
     "iopub.status.busy": "2022-11-30T09:14:21.392622Z",
     "iopub.status.idle": "2022-11-30T09:14:21.404025Z",
     "shell.execute_reply": "2022-11-30T09:14:21.402572Z"
    },
    "papermill": {
     "duration": 0.056977,
     "end_time": "2022-11-30T09:14:21.407193",
     "exception": false,
     "start_time": "2022-11-30T09:14:21.350216",
     "status": "completed"
    },
    "tags": []
   },
   "outputs": [],
   "source": [
    "df[\"noInternetService\"] = df[\"InternetService\"].apply(lambda x : 1 if x == \"No\" else 0)"
   ]
  },
  {
   "cell_type": "markdown",
   "metadata": {
    "papermill": {
     "duration": 0.038337,
     "end_time": "2022-11-30T09:14:21.482974",
     "exception": false,
     "start_time": "2022-11-30T09:14:21.444637",
     "status": "completed"
    },
    "tags": []
   },
   "source": [
    "**4 -** Customers making automatic payments"
   ]
  },
  {
   "cell_type": "code",
   "execution_count": 46,
   "metadata": {
    "execution": {
     "iopub.execute_input": "2022-11-30T09:14:21.573484Z",
     "iopub.status.busy": "2022-11-30T09:14:21.572578Z",
     "iopub.status.idle": "2022-11-30T09:14:21.585167Z",
     "shell.execute_reply": "2022-11-30T09:14:21.583491Z"
    },
    "papermill": {
     "duration": 0.060702,
     "end_time": "2022-11-30T09:14:21.589156",
     "exception": false,
     "start_time": "2022-11-30T09:14:21.528454",
     "status": "completed"
    },
    "tags": []
   },
   "outputs": [],
   "source": [
    "df[\"automaticPayment\"] = df[\"PaymentMethod\"].apply(lambda x : 1 if(x == \"Bank transfer (automatic)\") | (x == \"Credit card (automatic)\") else 0)"
   ]
  },
  {
   "cell_type": "markdown",
   "metadata": {
    "papermill": {
     "duration": 0.038633,
     "end_time": "2022-11-30T09:14:21.666477",
     "exception": false,
     "start_time": "2022-11-30T09:14:21.627844",
     "status": "completed"
    },
    "tags": []
   },
   "source": [
    "**5 -** Total number of services received by customers"
   ]
  },
  {
   "cell_type": "code",
   "execution_count": 47,
   "metadata": {
    "execution": {
     "iopub.execute_input": "2022-11-30T09:14:21.750967Z",
     "iopub.status.busy": "2022-11-30T09:14:21.748747Z",
     "iopub.status.idle": "2022-11-30T09:14:21.765870Z",
     "shell.execute_reply": "2022-11-30T09:14:21.764321Z"
    },
    "papermill": {
     "duration": 0.0631,
     "end_time": "2022-11-30T09:14:21.768895",
     "exception": false,
     "start_time": "2022-11-30T09:14:21.705795",
     "status": "completed"
    },
    "tags": []
   },
   "outputs": [],
   "source": [
    "df['TotalServices'] = (df[['PhoneService', 'InternetService', 'OnlineSecurity',\n",
    "                                        'OnlineBackup', 'DeviceProtection', 'TechSupport',\n",
    "                                        'StreamingTV', 'StreamingMovies']]== 'Yes').sum(axis=1)"
   ]
  },
  {
   "cell_type": "markdown",
   "metadata": {
    "papermill": {
     "duration": 0.037462,
     "end_time": "2022-11-30T09:14:21.844444",
     "exception": false,
     "start_time": "2022-11-30T09:14:21.806982",
     "status": "completed"
    },
    "tags": []
   },
   "source": [
    "**6 -** Average money collected monthly"
   ]
  },
  {
   "cell_type": "code",
   "execution_count": 48,
   "metadata": {
    "execution": {
     "iopub.execute_input": "2022-11-30T09:14:21.923598Z",
     "iopub.status.busy": "2022-11-30T09:14:21.922104Z",
     "iopub.status.idle": "2022-11-30T09:14:21.930941Z",
     "shell.execute_reply": "2022-11-30T09:14:21.929766Z"
    },
    "papermill": {
     "duration": 0.05021,
     "end_time": "2022-11-30T09:14:21.933597",
     "exception": false,
     "start_time": "2022-11-30T09:14:21.883387",
     "status": "completed"
    },
    "tags": []
   },
   "outputs": [],
   "source": [
    "df[\"avgCharges\"] = df[\"TotalCharges\"] / (df[\"tenure\"] + 1)"
   ]
  },
  {
   "cell_type": "markdown",
   "metadata": {
    "papermill": {
     "duration": 0.036422,
     "end_time": "2022-11-30T09:14:22.007692",
     "exception": false,
     "start_time": "2022-11-30T09:14:21.971270",
     "status": "completed"
    },
    "tags": []
   },
   "source": [
    "**7 -** People who receive streaming services"
   ]
  },
  {
   "cell_type": "code",
   "execution_count": 49,
   "metadata": {
    "execution": {
     "iopub.execute_input": "2022-11-30T09:14:22.085543Z",
     "iopub.status.busy": "2022-11-30T09:14:22.084841Z",
     "iopub.status.idle": "2022-11-30T09:14:22.191806Z",
     "shell.execute_reply": "2022-11-30T09:14:22.190847Z"
    },
    "papermill": {
     "duration": 0.148804,
     "end_time": "2022-11-30T09:14:22.194461",
     "exception": false,
     "start_time": "2022-11-30T09:14:22.045657",
     "status": "completed"
    },
    "tags": []
   },
   "outputs": [],
   "source": [
    "df[\"anyStreamingService\"] = df.apply(lambda x: 1 if (x[\"StreamingTV\"] == \"Yes\") or (x[\"StreamingMovies\"] == \"Yes\") else 0, axis=1)"
   ]
  },
  {
   "cell_type": "markdown",
   "metadata": {
    "papermill": {
     "duration": 0.035946,
     "end_time": "2022-11-30T09:14:22.270047",
     "exception": false,
     "start_time": "2022-11-30T09:14:22.234101",
     "status": "completed"
    },
    "tags": []
   },
   "source": [
    "**8 -** Customers without any support, protection, backup etc."
   ]
  },
  {
   "cell_type": "code",
   "execution_count": 50,
   "metadata": {
    "execution": {
     "iopub.execute_input": "2022-11-30T09:14:22.343851Z",
     "iopub.status.busy": "2022-11-30T09:14:22.343168Z",
     "iopub.status.idle": "2022-11-30T09:14:22.447260Z",
     "shell.execute_reply": "2022-11-30T09:14:22.445853Z"
    },
    "papermill": {
     "duration": 0.144388,
     "end_time": "2022-11-30T09:14:22.450089",
     "exception": false,
     "start_time": "2022-11-30T09:14:22.305701",
     "status": "completed"
    },
    "tags": []
   },
   "outputs": [],
   "source": [
    "df[\"noProtection\"] = df.apply(lambda x: 1 if (x[\"OnlineBackup\"] != \"Yes\") or (x[\"DeviceProtection\"] != \"Yes\") or (x[\"TechSupport\"] != \"Yes\") else 0, axis=1)"
   ]
  },
  {
   "cell_type": "markdown",
   "metadata": {
    "papermill": {
     "duration": 0.036188,
     "end_time": "2022-11-30T09:14:22.522742",
     "exception": false,
     "start_time": "2022-11-30T09:14:22.486554",
     "status": "completed"
    },
    "tags": []
   },
   "source": [
    "**9 -** Customers for more than 1 year and TotalCharges lower than average "
   ]
  },
  {
   "cell_type": "code",
   "execution_count": 51,
   "metadata": {
    "execution": {
     "iopub.execute_input": "2022-11-30T09:14:22.595627Z",
     "iopub.status.busy": "2022-11-30T09:14:22.595163Z",
     "iopub.status.idle": "2022-11-30T09:14:23.433819Z",
     "shell.execute_reply": "2022-11-30T09:14:23.432338Z"
    },
    "papermill": {
     "duration": 0.878752,
     "end_time": "2022-11-30T09:14:23.436834",
     "exception": false,
     "start_time": "2022-11-30T09:14:22.558082",
     "status": "completed"
    },
    "tags": []
   },
   "outputs": [],
   "source": [
    "df[\"onePlusLowTotalC\"] = df.apply(lambda x : 1 if (x[\"onePlusYearCustomer\"] == 1) & (x[\"TotalCharges\"] < df[\"TotalCharges\"].mean()) else 0,  axis = 1)"
   ]
  },
  {
   "cell_type": "code",
   "execution_count": 52,
   "metadata": {
    "execution": {
     "iopub.execute_input": "2022-11-30T09:14:23.512971Z",
     "iopub.status.busy": "2022-11-30T09:14:23.512542Z",
     "iopub.status.idle": "2022-11-30T09:14:23.541308Z",
     "shell.execute_reply": "2022-11-30T09:14:23.539947Z"
    },
    "papermill": {
     "duration": 0.070029,
     "end_time": "2022-11-30T09:14:23.543680",
     "exception": false,
     "start_time": "2022-11-30T09:14:23.473651",
     "status": "completed"
    },
    "tags": []
   },
   "outputs": [
    {
     "data": {
      "text/html": [
       "<div>\n",
       "<style scoped>\n",
       "    .dataframe tbody tr th:only-of-type {\n",
       "        vertical-align: middle;\n",
       "    }\n",
       "\n",
       "    .dataframe tbody tr th {\n",
       "        vertical-align: top;\n",
       "    }\n",
       "\n",
       "    .dataframe thead th {\n",
       "        text-align: right;\n",
       "    }\n",
       "</style>\n",
       "<table border=\"1\" class=\"dataframe\">\n",
       "  <thead>\n",
       "    <tr style=\"text-align: right;\">\n",
       "      <th></th>\n",
       "      <th>customerID</th>\n",
       "      <th>gender</th>\n",
       "      <th>SeniorCitizen</th>\n",
       "      <th>Partner</th>\n",
       "      <th>Dependents</th>\n",
       "      <th>tenure</th>\n",
       "      <th>PhoneService</th>\n",
       "      <th>MultipleLines</th>\n",
       "      <th>InternetService</th>\n",
       "      <th>OnlineSecurity</th>\n",
       "      <th>OnlineBackup</th>\n",
       "      <th>DeviceProtection</th>\n",
       "      <th>TechSupport</th>\n",
       "      <th>StreamingTV</th>\n",
       "      <th>StreamingMovies</th>\n",
       "      <th>Contract</th>\n",
       "      <th>PaperlessBilling</th>\n",
       "      <th>PaymentMethod</th>\n",
       "      <th>MonthlyCharges</th>\n",
       "      <th>TotalCharges</th>\n",
       "      <th>Churn</th>\n",
       "      <th>onePlusYearCustomer</th>\n",
       "      <th>onePlusYearCustomer_MonthlyContract</th>\n",
       "      <th>noInternetService</th>\n",
       "      <th>automaticPayment</th>\n",
       "      <th>TotalServices</th>\n",
       "      <th>avgCharges</th>\n",
       "      <th>anyStreamingService</th>\n",
       "      <th>noProtection</th>\n",
       "      <th>onePlusLowTotalC</th>\n",
       "    </tr>\n",
       "  </thead>\n",
       "  <tbody>\n",
       "    <tr>\n",
       "      <th>0</th>\n",
       "      <td>7590-VHVEG</td>\n",
       "      <td>Female</td>\n",
       "      <td>0</td>\n",
       "      <td>Yes</td>\n",
       "      <td>No</td>\n",
       "      <td>1</td>\n",
       "      <td>No</td>\n",
       "      <td>No phone service</td>\n",
       "      <td>DSL</td>\n",
       "      <td>No</td>\n",
       "      <td>Yes</td>\n",
       "      <td>No</td>\n",
       "      <td>No</td>\n",
       "      <td>No</td>\n",
       "      <td>No</td>\n",
       "      <td>Month-to-month</td>\n",
       "      <td>Yes</td>\n",
       "      <td>Electronic check</td>\n",
       "      <td>29.85</td>\n",
       "      <td>29.85</td>\n",
       "      <td>0</td>\n",
       "      <td>0</td>\n",
       "      <td>0</td>\n",
       "      <td>0</td>\n",
       "      <td>0</td>\n",
       "      <td>1</td>\n",
       "      <td>14.925000</td>\n",
       "      <td>0</td>\n",
       "      <td>1</td>\n",
       "      <td>0</td>\n",
       "    </tr>\n",
       "    <tr>\n",
       "      <th>1</th>\n",
       "      <td>5575-GNVDE</td>\n",
       "      <td>Male</td>\n",
       "      <td>0</td>\n",
       "      <td>No</td>\n",
       "      <td>No</td>\n",
       "      <td>34</td>\n",
       "      <td>Yes</td>\n",
       "      <td>No</td>\n",
       "      <td>DSL</td>\n",
       "      <td>Yes</td>\n",
       "      <td>No</td>\n",
       "      <td>Yes</td>\n",
       "      <td>No</td>\n",
       "      <td>No</td>\n",
       "      <td>No</td>\n",
       "      <td>One year</td>\n",
       "      <td>No</td>\n",
       "      <td>Mailed check</td>\n",
       "      <td>56.95</td>\n",
       "      <td>1889.50</td>\n",
       "      <td>0</td>\n",
       "      <td>1</td>\n",
       "      <td>0</td>\n",
       "      <td>0</td>\n",
       "      <td>0</td>\n",
       "      <td>3</td>\n",
       "      <td>53.985714</td>\n",
       "      <td>0</td>\n",
       "      <td>1</td>\n",
       "      <td>1</td>\n",
       "    </tr>\n",
       "    <tr>\n",
       "      <th>2</th>\n",
       "      <td>3668-QPYBK</td>\n",
       "      <td>Male</td>\n",
       "      <td>0</td>\n",
       "      <td>No</td>\n",
       "      <td>No</td>\n",
       "      <td>2</td>\n",
       "      <td>Yes</td>\n",
       "      <td>No</td>\n",
       "      <td>DSL</td>\n",
       "      <td>Yes</td>\n",
       "      <td>Yes</td>\n",
       "      <td>No</td>\n",
       "      <td>No</td>\n",
       "      <td>No</td>\n",
       "      <td>No</td>\n",
       "      <td>Month-to-month</td>\n",
       "      <td>Yes</td>\n",
       "      <td>Mailed check</td>\n",
       "      <td>53.85</td>\n",
       "      <td>108.15</td>\n",
       "      <td>1</td>\n",
       "      <td>0</td>\n",
       "      <td>0</td>\n",
       "      <td>0</td>\n",
       "      <td>0</td>\n",
       "      <td>3</td>\n",
       "      <td>36.050000</td>\n",
       "      <td>0</td>\n",
       "      <td>1</td>\n",
       "      <td>0</td>\n",
       "    </tr>\n",
       "    <tr>\n",
       "      <th>3</th>\n",
       "      <td>7795-CFOCW</td>\n",
       "      <td>Male</td>\n",
       "      <td>0</td>\n",
       "      <td>No</td>\n",
       "      <td>No</td>\n",
       "      <td>45</td>\n",
       "      <td>No</td>\n",
       "      <td>No phone service</td>\n",
       "      <td>DSL</td>\n",
       "      <td>Yes</td>\n",
       "      <td>No</td>\n",
       "      <td>Yes</td>\n",
       "      <td>Yes</td>\n",
       "      <td>No</td>\n",
       "      <td>No</td>\n",
       "      <td>One year</td>\n",
       "      <td>No</td>\n",
       "      <td>Bank transfer (automatic)</td>\n",
       "      <td>42.30</td>\n",
       "      <td>1840.75</td>\n",
       "      <td>0</td>\n",
       "      <td>1</td>\n",
       "      <td>0</td>\n",
       "      <td>0</td>\n",
       "      <td>1</td>\n",
       "      <td>3</td>\n",
       "      <td>40.016304</td>\n",
       "      <td>0</td>\n",
       "      <td>1</td>\n",
       "      <td>1</td>\n",
       "    </tr>\n",
       "    <tr>\n",
       "      <th>4</th>\n",
       "      <td>9237-HQITU</td>\n",
       "      <td>Female</td>\n",
       "      <td>0</td>\n",
       "      <td>No</td>\n",
       "      <td>No</td>\n",
       "      <td>2</td>\n",
       "      <td>Yes</td>\n",
       "      <td>No</td>\n",
       "      <td>Fiber optic</td>\n",
       "      <td>No</td>\n",
       "      <td>No</td>\n",
       "      <td>No</td>\n",
       "      <td>No</td>\n",
       "      <td>No</td>\n",
       "      <td>No</td>\n",
       "      <td>Month-to-month</td>\n",
       "      <td>Yes</td>\n",
       "      <td>Electronic check</td>\n",
       "      <td>70.70</td>\n",
       "      <td>151.65</td>\n",
       "      <td>1</td>\n",
       "      <td>0</td>\n",
       "      <td>0</td>\n",
       "      <td>0</td>\n",
       "      <td>0</td>\n",
       "      <td>1</td>\n",
       "      <td>50.550000</td>\n",
       "      <td>0</td>\n",
       "      <td>1</td>\n",
       "      <td>0</td>\n",
       "    </tr>\n",
       "  </tbody>\n",
       "</table>\n",
       "</div>"
      ],
      "text/plain": [
       "   customerID  gender  SeniorCitizen Partner Dependents  tenure PhoneService  \\\n",
       "0  7590-VHVEG  Female              0     Yes         No       1           No   \n",
       "1  5575-GNVDE    Male              0      No         No      34          Yes   \n",
       "2  3668-QPYBK    Male              0      No         No       2          Yes   \n",
       "3  7795-CFOCW    Male              0      No         No      45           No   \n",
       "4  9237-HQITU  Female              0      No         No       2          Yes   \n",
       "\n",
       "      MultipleLines InternetService OnlineSecurity OnlineBackup  \\\n",
       "0  No phone service             DSL             No          Yes   \n",
       "1                No             DSL            Yes           No   \n",
       "2                No             DSL            Yes          Yes   \n",
       "3  No phone service             DSL            Yes           No   \n",
       "4                No     Fiber optic             No           No   \n",
       "\n",
       "  DeviceProtection TechSupport StreamingTV StreamingMovies        Contract  \\\n",
       "0               No          No          No              No  Month-to-month   \n",
       "1              Yes          No          No              No        One year   \n",
       "2               No          No          No              No  Month-to-month   \n",
       "3              Yes         Yes          No              No        One year   \n",
       "4               No          No          No              No  Month-to-month   \n",
       "\n",
       "  PaperlessBilling              PaymentMethod  MonthlyCharges  TotalCharges  \\\n",
       "0              Yes           Electronic check           29.85         29.85   \n",
       "1               No               Mailed check           56.95       1889.50   \n",
       "2              Yes               Mailed check           53.85        108.15   \n",
       "3               No  Bank transfer (automatic)           42.30       1840.75   \n",
       "4              Yes           Electronic check           70.70        151.65   \n",
       "\n",
       "   Churn  onePlusYearCustomer  onePlusYearCustomer_MonthlyContract  \\\n",
       "0      0                    0                                    0   \n",
       "1      0                    1                                    0   \n",
       "2      1                    0                                    0   \n",
       "3      0                    1                                    0   \n",
       "4      1                    0                                    0   \n",
       "\n",
       "   noInternetService  automaticPayment  TotalServices  avgCharges  \\\n",
       "0                  0                 0              1   14.925000   \n",
       "1                  0                 0              3   53.985714   \n",
       "2                  0                 0              3   36.050000   \n",
       "3                  0                 1              3   40.016304   \n",
       "4                  0                 0              1   50.550000   \n",
       "\n",
       "   anyStreamingService  noProtection  onePlusLowTotalC  \n",
       "0                    0             1                 0  \n",
       "1                    0             1                 1  \n",
       "2                    0             1                 0  \n",
       "3                    0             1                 1  \n",
       "4                    0             1                 0  "
      ]
     },
     "execution_count": 52,
     "metadata": {},
     "output_type": "execute_result"
    }
   ],
   "source": [
    "df.head()"
   ]
  },
  {
   "cell_type": "markdown",
   "metadata": {
    "papermill": {
     "duration": 0.037395,
     "end_time": "2022-11-30T09:14:23.617917",
     "exception": false,
     "start_time": "2022-11-30T09:14:23.580522",
     "status": "completed"
    },
    "tags": []
   },
   "source": [
    "# Encoding"
   ]
  },
  {
   "cell_type": "markdown",
   "metadata": {
    "papermill": {
     "duration": 0.036733,
     "end_time": "2022-11-30T09:14:23.692089",
     "exception": false,
     "start_time": "2022-11-30T09:14:23.655356",
     "status": "completed"
    },
    "tags": []
   },
   "source": [
    "Encoding operations will be performed.  \n",
    "Firstly, binary columns were determined to be used in the label encoder. Columns with object type and 2 unique values ​​are selected. Finally, the selected columns are given to the label encoder."
   ]
  },
  {
   "cell_type": "code",
   "execution_count": 53,
   "metadata": {
    "execution": {
     "iopub.execute_input": "2022-11-30T09:14:23.766047Z",
     "iopub.status.busy": "2022-11-30T09:14:23.765651Z",
     "iopub.status.idle": "2022-11-30T09:14:23.788308Z",
     "shell.execute_reply": "2022-11-30T09:14:23.787068Z"
    },
    "papermill": {
     "duration": 0.062451,
     "end_time": "2022-11-30T09:14:23.791040",
     "exception": false,
     "start_time": "2022-11-30T09:14:23.728589",
     "status": "completed"
    },
    "tags": []
   },
   "outputs": [
    {
     "data": {
      "text/plain": [
       "['gender', 'Partner', 'Dependents', 'PhoneService', 'PaperlessBilling']"
      ]
     },
     "execution_count": 53,
     "metadata": {},
     "output_type": "execute_result"
    }
   ],
   "source": [
    "binaryCols = [col for col in df.columns if df[col].dtype == \"O\" and df[col].nunique() == 2]\n",
    "\n",
    "binaryCols"
   ]
  },
  {
   "cell_type": "code",
   "execution_count": 54,
   "metadata": {
    "execution": {
     "iopub.execute_input": "2022-11-30T09:14:23.866650Z",
     "iopub.status.busy": "2022-11-30T09:14:23.866222Z",
     "iopub.status.idle": "2022-11-30T09:14:23.882485Z",
     "shell.execute_reply": "2022-11-30T09:14:23.881194Z"
    },
    "papermill": {
     "duration": 0.057065,
     "end_time": "2022-11-30T09:14:23.884957",
     "exception": false,
     "start_time": "2022-11-30T09:14:23.827892",
     "status": "completed"
    },
    "tags": []
   },
   "outputs": [
    {
     "data": {
      "text/html": [
       "<div>\n",
       "<style scoped>\n",
       "    .dataframe tbody tr th:only-of-type {\n",
       "        vertical-align: middle;\n",
       "    }\n",
       "\n",
       "    .dataframe tbody tr th {\n",
       "        vertical-align: top;\n",
       "    }\n",
       "\n",
       "    .dataframe thead th {\n",
       "        text-align: right;\n",
       "    }\n",
       "</style>\n",
       "<table border=\"1\" class=\"dataframe\">\n",
       "  <thead>\n",
       "    <tr style=\"text-align: right;\">\n",
       "      <th></th>\n",
       "      <th>gender</th>\n",
       "      <th>Partner</th>\n",
       "      <th>Dependents</th>\n",
       "      <th>PhoneService</th>\n",
       "      <th>PaperlessBilling</th>\n",
       "    </tr>\n",
       "  </thead>\n",
       "  <tbody>\n",
       "    <tr>\n",
       "      <th>0</th>\n",
       "      <td>Female</td>\n",
       "      <td>Yes</td>\n",
       "      <td>No</td>\n",
       "      <td>No</td>\n",
       "      <td>Yes</td>\n",
       "    </tr>\n",
       "    <tr>\n",
       "      <th>1</th>\n",
       "      <td>Male</td>\n",
       "      <td>No</td>\n",
       "      <td>No</td>\n",
       "      <td>Yes</td>\n",
       "      <td>No</td>\n",
       "    </tr>\n",
       "    <tr>\n",
       "      <th>2</th>\n",
       "      <td>Male</td>\n",
       "      <td>No</td>\n",
       "      <td>No</td>\n",
       "      <td>Yes</td>\n",
       "      <td>Yes</td>\n",
       "    </tr>\n",
       "    <tr>\n",
       "      <th>3</th>\n",
       "      <td>Male</td>\n",
       "      <td>No</td>\n",
       "      <td>No</td>\n",
       "      <td>No</td>\n",
       "      <td>No</td>\n",
       "    </tr>\n",
       "    <tr>\n",
       "      <th>4</th>\n",
       "      <td>Female</td>\n",
       "      <td>No</td>\n",
       "      <td>No</td>\n",
       "      <td>Yes</td>\n",
       "      <td>Yes</td>\n",
       "    </tr>\n",
       "  </tbody>\n",
       "</table>\n",
       "</div>"
      ],
      "text/plain": [
       "   gender Partner Dependents PhoneService PaperlessBilling\n",
       "0  Female     Yes         No           No              Yes\n",
       "1    Male      No         No          Yes               No\n",
       "2    Male      No         No          Yes              Yes\n",
       "3    Male      No         No           No               No\n",
       "4  Female      No         No          Yes              Yes"
      ]
     },
     "execution_count": 54,
     "metadata": {},
     "output_type": "execute_result"
    }
   ],
   "source": [
    "df[binaryCols].head()"
   ]
  },
  {
   "cell_type": "code",
   "execution_count": 55,
   "metadata": {
    "execution": {
     "iopub.execute_input": "2022-11-30T09:14:23.960567Z",
     "iopub.status.busy": "2022-11-30T09:14:23.959894Z",
     "iopub.status.idle": "2022-11-30T09:14:23.964774Z",
     "shell.execute_reply": "2022-11-30T09:14:23.963848Z"
    },
    "papermill": {
     "duration": 0.045703,
     "end_time": "2022-11-30T09:14:23.966894",
     "exception": false,
     "start_time": "2022-11-30T09:14:23.921191",
     "status": "completed"
    },
    "tags": []
   },
   "outputs": [],
   "source": [
    "def label_encoder(dataframe, binaryCol):\n",
    "    labelencoder = LabelEncoder()\n",
    "    dataframe[binaryCol] = labelencoder.fit_transform(dataframe[binaryCol])\n",
    "    return dataframe"
   ]
  },
  {
   "cell_type": "code",
   "execution_count": 56,
   "metadata": {
    "execution": {
     "iopub.execute_input": "2022-11-30T09:14:24.042874Z",
     "iopub.status.busy": "2022-11-30T09:14:24.042214Z",
     "iopub.status.idle": "2022-11-30T09:14:24.062502Z",
     "shell.execute_reply": "2022-11-30T09:14:24.060995Z"
    },
    "papermill": {
     "duration": 0.061443,
     "end_time": "2022-11-30T09:14:24.065364",
     "exception": false,
     "start_time": "2022-11-30T09:14:24.003921",
     "status": "completed"
    },
    "tags": []
   },
   "outputs": [],
   "source": [
    "for col in binaryCols:\n",
    "    df = label_encoder(df, col)"
   ]
  },
  {
   "cell_type": "code",
   "execution_count": 57,
   "metadata": {
    "execution": {
     "iopub.execute_input": "2022-11-30T09:14:24.139688Z",
     "iopub.status.busy": "2022-11-30T09:14:24.139272Z",
     "iopub.status.idle": "2022-11-30T09:14:24.152518Z",
     "shell.execute_reply": "2022-11-30T09:14:24.151324Z"
    },
    "papermill": {
     "duration": 0.053319,
     "end_time": "2022-11-30T09:14:24.155436",
     "exception": false,
     "start_time": "2022-11-30T09:14:24.102117",
     "status": "completed"
    },
    "tags": []
   },
   "outputs": [
    {
     "data": {
      "text/html": [
       "<div>\n",
       "<style scoped>\n",
       "    .dataframe tbody tr th:only-of-type {\n",
       "        vertical-align: middle;\n",
       "    }\n",
       "\n",
       "    .dataframe tbody tr th {\n",
       "        vertical-align: top;\n",
       "    }\n",
       "\n",
       "    .dataframe thead th {\n",
       "        text-align: right;\n",
       "    }\n",
       "</style>\n",
       "<table border=\"1\" class=\"dataframe\">\n",
       "  <thead>\n",
       "    <tr style=\"text-align: right;\">\n",
       "      <th></th>\n",
       "      <th>gender</th>\n",
       "      <th>Partner</th>\n",
       "      <th>Dependents</th>\n",
       "      <th>PhoneService</th>\n",
       "      <th>PaperlessBilling</th>\n",
       "    </tr>\n",
       "  </thead>\n",
       "  <tbody>\n",
       "    <tr>\n",
       "      <th>0</th>\n",
       "      <td>0</td>\n",
       "      <td>1</td>\n",
       "      <td>0</td>\n",
       "      <td>0</td>\n",
       "      <td>1</td>\n",
       "    </tr>\n",
       "    <tr>\n",
       "      <th>1</th>\n",
       "      <td>1</td>\n",
       "      <td>0</td>\n",
       "      <td>0</td>\n",
       "      <td>1</td>\n",
       "      <td>0</td>\n",
       "    </tr>\n",
       "    <tr>\n",
       "      <th>2</th>\n",
       "      <td>1</td>\n",
       "      <td>0</td>\n",
       "      <td>0</td>\n",
       "      <td>1</td>\n",
       "      <td>1</td>\n",
       "    </tr>\n",
       "    <tr>\n",
       "      <th>3</th>\n",
       "      <td>1</td>\n",
       "      <td>0</td>\n",
       "      <td>0</td>\n",
       "      <td>0</td>\n",
       "      <td>0</td>\n",
       "    </tr>\n",
       "    <tr>\n",
       "      <th>4</th>\n",
       "      <td>0</td>\n",
       "      <td>0</td>\n",
       "      <td>0</td>\n",
       "      <td>1</td>\n",
       "      <td>1</td>\n",
       "    </tr>\n",
       "  </tbody>\n",
       "</table>\n",
       "</div>"
      ],
      "text/plain": [
       "   gender  Partner  Dependents  PhoneService  PaperlessBilling\n",
       "0       0        1           0             0                 1\n",
       "1       1        0           0             1                 0\n",
       "2       1        0           0             1                 1\n",
       "3       1        0           0             0                 0\n",
       "4       0        0           0             1                 1"
      ]
     },
     "execution_count": 57,
     "metadata": {},
     "output_type": "execute_result"
    }
   ],
   "source": [
    "df[binaryCols].head()"
   ]
  },
  {
   "cell_type": "markdown",
   "metadata": {
    "papermill": {
     "duration": 0.037048,
     "end_time": "2022-11-30T09:14:24.231012",
     "exception": false,
     "start_time": "2022-11-30T09:14:24.193964",
     "status": "completed"
    },
    "tags": []
   },
   "source": [
    "In this part of the encoding process, first the columns to be given to the one-hot encoder will be determined, and then they will be given to the one-hot encoder.  \n",
    "The determination of the relevant columns was made by selecting those whose unique value number is greater than 2 and less than or equal to 10. Then these columns are given to the one-hot encoder."
   ]
  },
  {
   "cell_type": "code",
   "execution_count": 58,
   "metadata": {
    "execution": {
     "iopub.execute_input": "2022-11-30T09:14:24.306391Z",
     "iopub.status.busy": "2022-11-30T09:14:24.305554Z",
     "iopub.status.idle": "2022-11-30T09:14:24.325746Z",
     "shell.execute_reply": "2022-11-30T09:14:24.324572Z"
    },
    "papermill": {
     "duration": 0.060701,
     "end_time": "2022-11-30T09:14:24.328124",
     "exception": false,
     "start_time": "2022-11-30T09:14:24.267423",
     "status": "completed"
    },
    "tags": []
   },
   "outputs": [
    {
     "data": {
      "text/plain": [
       "['MultipleLines',\n",
       " 'InternetService',\n",
       " 'OnlineSecurity',\n",
       " 'OnlineBackup',\n",
       " 'DeviceProtection',\n",
       " 'TechSupport',\n",
       " 'StreamingTV',\n",
       " 'StreamingMovies',\n",
       " 'Contract',\n",
       " 'PaymentMethod',\n",
       " 'TotalServices']"
      ]
     },
     "execution_count": 58,
     "metadata": {},
     "output_type": "execute_result"
    }
   ],
   "source": [
    "oheCols = [col for col in df.columns if 10 >= df[col].nunique() > 2]\n",
    "\n",
    "oheCols"
   ]
  },
  {
   "cell_type": "code",
   "execution_count": 59,
   "metadata": {
    "execution": {
     "iopub.execute_input": "2022-11-30T09:14:24.405619Z",
     "iopub.status.busy": "2022-11-30T09:14:24.404396Z",
     "iopub.status.idle": "2022-11-30T09:14:24.422577Z",
     "shell.execute_reply": "2022-11-30T09:14:24.421613Z"
    },
    "papermill": {
     "duration": 0.059503,
     "end_time": "2022-11-30T09:14:24.425005",
     "exception": false,
     "start_time": "2022-11-30T09:14:24.365502",
     "status": "completed"
    },
    "tags": []
   },
   "outputs": [
    {
     "data": {
      "text/html": [
       "<div>\n",
       "<style scoped>\n",
       "    .dataframe tbody tr th:only-of-type {\n",
       "        vertical-align: middle;\n",
       "    }\n",
       "\n",
       "    .dataframe tbody tr th {\n",
       "        vertical-align: top;\n",
       "    }\n",
       "\n",
       "    .dataframe thead th {\n",
       "        text-align: right;\n",
       "    }\n",
       "</style>\n",
       "<table border=\"1\" class=\"dataframe\">\n",
       "  <thead>\n",
       "    <tr style=\"text-align: right;\">\n",
       "      <th></th>\n",
       "      <th>MultipleLines</th>\n",
       "      <th>InternetService</th>\n",
       "      <th>OnlineSecurity</th>\n",
       "      <th>OnlineBackup</th>\n",
       "      <th>DeviceProtection</th>\n",
       "      <th>TechSupport</th>\n",
       "      <th>StreamingTV</th>\n",
       "      <th>StreamingMovies</th>\n",
       "      <th>Contract</th>\n",
       "      <th>PaymentMethod</th>\n",
       "      <th>TotalServices</th>\n",
       "    </tr>\n",
       "  </thead>\n",
       "  <tbody>\n",
       "    <tr>\n",
       "      <th>0</th>\n",
       "      <td>No phone service</td>\n",
       "      <td>DSL</td>\n",
       "      <td>No</td>\n",
       "      <td>Yes</td>\n",
       "      <td>No</td>\n",
       "      <td>No</td>\n",
       "      <td>No</td>\n",
       "      <td>No</td>\n",
       "      <td>Month-to-month</td>\n",
       "      <td>Electronic check</td>\n",
       "      <td>1</td>\n",
       "    </tr>\n",
       "    <tr>\n",
       "      <th>1</th>\n",
       "      <td>No</td>\n",
       "      <td>DSL</td>\n",
       "      <td>Yes</td>\n",
       "      <td>No</td>\n",
       "      <td>Yes</td>\n",
       "      <td>No</td>\n",
       "      <td>No</td>\n",
       "      <td>No</td>\n",
       "      <td>One year</td>\n",
       "      <td>Mailed check</td>\n",
       "      <td>3</td>\n",
       "    </tr>\n",
       "    <tr>\n",
       "      <th>2</th>\n",
       "      <td>No</td>\n",
       "      <td>DSL</td>\n",
       "      <td>Yes</td>\n",
       "      <td>Yes</td>\n",
       "      <td>No</td>\n",
       "      <td>No</td>\n",
       "      <td>No</td>\n",
       "      <td>No</td>\n",
       "      <td>Month-to-month</td>\n",
       "      <td>Mailed check</td>\n",
       "      <td>3</td>\n",
       "    </tr>\n",
       "    <tr>\n",
       "      <th>3</th>\n",
       "      <td>No phone service</td>\n",
       "      <td>DSL</td>\n",
       "      <td>Yes</td>\n",
       "      <td>No</td>\n",
       "      <td>Yes</td>\n",
       "      <td>Yes</td>\n",
       "      <td>No</td>\n",
       "      <td>No</td>\n",
       "      <td>One year</td>\n",
       "      <td>Bank transfer (automatic)</td>\n",
       "      <td>3</td>\n",
       "    </tr>\n",
       "    <tr>\n",
       "      <th>4</th>\n",
       "      <td>No</td>\n",
       "      <td>Fiber optic</td>\n",
       "      <td>No</td>\n",
       "      <td>No</td>\n",
       "      <td>No</td>\n",
       "      <td>No</td>\n",
       "      <td>No</td>\n",
       "      <td>No</td>\n",
       "      <td>Month-to-month</td>\n",
       "      <td>Electronic check</td>\n",
       "      <td>1</td>\n",
       "    </tr>\n",
       "  </tbody>\n",
       "</table>\n",
       "</div>"
      ],
      "text/plain": [
       "      MultipleLines InternetService OnlineSecurity OnlineBackup  \\\n",
       "0  No phone service             DSL             No          Yes   \n",
       "1                No             DSL            Yes           No   \n",
       "2                No             DSL            Yes          Yes   \n",
       "3  No phone service             DSL            Yes           No   \n",
       "4                No     Fiber optic             No           No   \n",
       "\n",
       "  DeviceProtection TechSupport StreamingTV StreamingMovies        Contract  \\\n",
       "0               No          No          No              No  Month-to-month   \n",
       "1              Yes          No          No              No        One year   \n",
       "2               No          No          No              No  Month-to-month   \n",
       "3              Yes         Yes          No              No        One year   \n",
       "4               No          No          No              No  Month-to-month   \n",
       "\n",
       "               PaymentMethod  TotalServices  \n",
       "0           Electronic check              1  \n",
       "1               Mailed check              3  \n",
       "2               Mailed check              3  \n",
       "3  Bank transfer (automatic)              3  \n",
       "4           Electronic check              1  "
      ]
     },
     "execution_count": 59,
     "metadata": {},
     "output_type": "execute_result"
    }
   ],
   "source": [
    "df[oheCols].head()"
   ]
  },
  {
   "cell_type": "code",
   "execution_count": 60,
   "metadata": {
    "execution": {
     "iopub.execute_input": "2022-11-30T09:14:24.502466Z",
     "iopub.status.busy": "2022-11-30T09:14:24.501775Z",
     "iopub.status.idle": "2022-11-30T09:14:24.506878Z",
     "shell.execute_reply": "2022-11-30T09:14:24.505698Z"
    },
    "papermill": {
     "duration": 0.047446,
     "end_time": "2022-11-30T09:14:24.509383",
     "exception": false,
     "start_time": "2022-11-30T09:14:24.461937",
     "status": "completed"
    },
    "tags": []
   },
   "outputs": [],
   "source": [
    "def one_hot_encoder(dataframe, oheCols, drop_first=True):\n",
    "    dataframe = pd.get_dummies(dataframe, columns=oheCols, drop_first=drop_first)\n",
    "    return dataframe"
   ]
  },
  {
   "cell_type": "code",
   "execution_count": 61,
   "metadata": {
    "execution": {
     "iopub.execute_input": "2022-11-30T09:14:24.587969Z",
     "iopub.status.busy": "2022-11-30T09:14:24.586982Z",
     "iopub.status.idle": "2022-11-30T09:14:24.612677Z",
     "shell.execute_reply": "2022-11-30T09:14:24.611585Z"
    },
    "papermill": {
     "duration": 0.066957,
     "end_time": "2022-11-30T09:14:24.615384",
     "exception": false,
     "start_time": "2022-11-30T09:14:24.548427",
     "status": "completed"
    },
    "tags": []
   },
   "outputs": [],
   "source": [
    "df = one_hot_encoder(df, oheCols, drop_first=True)"
   ]
  },
  {
   "cell_type": "code",
   "execution_count": 62,
   "metadata": {
    "execution": {
     "iopub.execute_input": "2022-11-30T09:14:24.690936Z",
     "iopub.status.busy": "2022-11-30T09:14:24.690514Z",
     "iopub.status.idle": "2022-11-30T09:14:24.697094Z",
     "shell.execute_reply": "2022-11-30T09:14:24.696260Z"
    },
    "papermill": {
     "duration": 0.04738,
     "end_time": "2022-11-30T09:14:24.699342",
     "exception": false,
     "start_time": "2022-11-30T09:14:24.651962",
     "status": "completed"
    },
    "tags": []
   },
   "outputs": [
    {
     "data": {
      "text/plain": [
       "Index(['customerID', 'gender', 'SeniorCitizen', 'Partner', 'Dependents',\n",
       "       'tenure', 'PhoneService', 'PaperlessBilling', 'MonthlyCharges',\n",
       "       'TotalCharges', 'Churn', 'onePlusYearCustomer',\n",
       "       'onePlusYearCustomer_MonthlyContract', 'noInternetService',\n",
       "       'automaticPayment', 'avgCharges', 'anyStreamingService', 'noProtection',\n",
       "       'onePlusLowTotalC', 'MultipleLines_No phone service',\n",
       "       'MultipleLines_Yes', 'InternetService_Fiber optic',\n",
       "       'InternetService_No', 'OnlineSecurity_No internet service',\n",
       "       'OnlineSecurity_Yes', 'OnlineBackup_No internet service',\n",
       "       'OnlineBackup_Yes', 'DeviceProtection_No internet service',\n",
       "       'DeviceProtection_Yes', 'TechSupport_No internet service',\n",
       "       'TechSupport_Yes', 'StreamingTV_No internet service', 'StreamingTV_Yes',\n",
       "       'StreamingMovies_No internet service', 'StreamingMovies_Yes',\n",
       "       'Contract_One year', 'Contract_Two year',\n",
       "       'PaymentMethod_Credit card (automatic)',\n",
       "       'PaymentMethod_Electronic check', 'PaymentMethod_Mailed check',\n",
       "       'TotalServices_1', 'TotalServices_2', 'TotalServices_3',\n",
       "       'TotalServices_4', 'TotalServices_5', 'TotalServices_6',\n",
       "       'TotalServices_7'],\n",
       "      dtype='object')"
      ]
     },
     "execution_count": 62,
     "metadata": {},
     "output_type": "execute_result"
    }
   ],
   "source": [
    "df.columns"
   ]
  },
  {
   "cell_type": "code",
   "execution_count": 63,
   "metadata": {
    "execution": {
     "iopub.execute_input": "2022-11-30T09:14:24.777973Z",
     "iopub.status.busy": "2022-11-30T09:14:24.776898Z",
     "iopub.status.idle": "2022-11-30T09:14:24.808341Z",
     "shell.execute_reply": "2022-11-30T09:14:24.806983Z"
    },
    "papermill": {
     "duration": 0.072835,
     "end_time": "2022-11-30T09:14:24.810907",
     "exception": false,
     "start_time": "2022-11-30T09:14:24.738072",
     "status": "completed"
    },
    "tags": []
   },
   "outputs": [
    {
     "data": {
      "text/html": [
       "<div>\n",
       "<style scoped>\n",
       "    .dataframe tbody tr th:only-of-type {\n",
       "        vertical-align: middle;\n",
       "    }\n",
       "\n",
       "    .dataframe tbody tr th {\n",
       "        vertical-align: top;\n",
       "    }\n",
       "\n",
       "    .dataframe thead th {\n",
       "        text-align: right;\n",
       "    }\n",
       "</style>\n",
       "<table border=\"1\" class=\"dataframe\">\n",
       "  <thead>\n",
       "    <tr style=\"text-align: right;\">\n",
       "      <th></th>\n",
       "      <th>customerID</th>\n",
       "      <th>gender</th>\n",
       "      <th>SeniorCitizen</th>\n",
       "      <th>Partner</th>\n",
       "      <th>Dependents</th>\n",
       "      <th>tenure</th>\n",
       "      <th>PhoneService</th>\n",
       "      <th>PaperlessBilling</th>\n",
       "      <th>MonthlyCharges</th>\n",
       "      <th>TotalCharges</th>\n",
       "      <th>Churn</th>\n",
       "      <th>onePlusYearCustomer</th>\n",
       "      <th>onePlusYearCustomer_MonthlyContract</th>\n",
       "      <th>noInternetService</th>\n",
       "      <th>automaticPayment</th>\n",
       "      <th>avgCharges</th>\n",
       "      <th>anyStreamingService</th>\n",
       "      <th>noProtection</th>\n",
       "      <th>onePlusLowTotalC</th>\n",
       "      <th>MultipleLines_No phone service</th>\n",
       "      <th>MultipleLines_Yes</th>\n",
       "      <th>InternetService_Fiber optic</th>\n",
       "      <th>InternetService_No</th>\n",
       "      <th>OnlineSecurity_No internet service</th>\n",
       "      <th>OnlineSecurity_Yes</th>\n",
       "      <th>OnlineBackup_No internet service</th>\n",
       "      <th>OnlineBackup_Yes</th>\n",
       "      <th>DeviceProtection_No internet service</th>\n",
       "      <th>DeviceProtection_Yes</th>\n",
       "      <th>TechSupport_No internet service</th>\n",
       "      <th>TechSupport_Yes</th>\n",
       "      <th>StreamingTV_No internet service</th>\n",
       "      <th>StreamingTV_Yes</th>\n",
       "      <th>StreamingMovies_No internet service</th>\n",
       "      <th>StreamingMovies_Yes</th>\n",
       "      <th>Contract_One year</th>\n",
       "      <th>Contract_Two year</th>\n",
       "      <th>PaymentMethod_Credit card (automatic)</th>\n",
       "      <th>PaymentMethod_Electronic check</th>\n",
       "      <th>PaymentMethod_Mailed check</th>\n",
       "      <th>TotalServices_1</th>\n",
       "      <th>TotalServices_2</th>\n",
       "      <th>TotalServices_3</th>\n",
       "      <th>TotalServices_4</th>\n",
       "      <th>TotalServices_5</th>\n",
       "      <th>TotalServices_6</th>\n",
       "      <th>TotalServices_7</th>\n",
       "    </tr>\n",
       "  </thead>\n",
       "  <tbody>\n",
       "    <tr>\n",
       "      <th>0</th>\n",
       "      <td>7590-VHVEG</td>\n",
       "      <td>0</td>\n",
       "      <td>0</td>\n",
       "      <td>1</td>\n",
       "      <td>0</td>\n",
       "      <td>1</td>\n",
       "      <td>0</td>\n",
       "      <td>1</td>\n",
       "      <td>29.85</td>\n",
       "      <td>29.85</td>\n",
       "      <td>0</td>\n",
       "      <td>0</td>\n",
       "      <td>0</td>\n",
       "      <td>0</td>\n",
       "      <td>0</td>\n",
       "      <td>14.925000</td>\n",
       "      <td>0</td>\n",
       "      <td>1</td>\n",
       "      <td>0</td>\n",
       "      <td>1</td>\n",
       "      <td>0</td>\n",
       "      <td>0</td>\n",
       "      <td>0</td>\n",
       "      <td>0</td>\n",
       "      <td>0</td>\n",
       "      <td>0</td>\n",
       "      <td>1</td>\n",
       "      <td>0</td>\n",
       "      <td>0</td>\n",
       "      <td>0</td>\n",
       "      <td>0</td>\n",
       "      <td>0</td>\n",
       "      <td>0</td>\n",
       "      <td>0</td>\n",
       "      <td>0</td>\n",
       "      <td>0</td>\n",
       "      <td>0</td>\n",
       "      <td>0</td>\n",
       "      <td>1</td>\n",
       "      <td>0</td>\n",
       "      <td>1</td>\n",
       "      <td>0</td>\n",
       "      <td>0</td>\n",
       "      <td>0</td>\n",
       "      <td>0</td>\n",
       "      <td>0</td>\n",
       "      <td>0</td>\n",
       "    </tr>\n",
       "    <tr>\n",
       "      <th>1</th>\n",
       "      <td>5575-GNVDE</td>\n",
       "      <td>1</td>\n",
       "      <td>0</td>\n",
       "      <td>0</td>\n",
       "      <td>0</td>\n",
       "      <td>34</td>\n",
       "      <td>1</td>\n",
       "      <td>0</td>\n",
       "      <td>56.95</td>\n",
       "      <td>1889.50</td>\n",
       "      <td>0</td>\n",
       "      <td>1</td>\n",
       "      <td>0</td>\n",
       "      <td>0</td>\n",
       "      <td>0</td>\n",
       "      <td>53.985714</td>\n",
       "      <td>0</td>\n",
       "      <td>1</td>\n",
       "      <td>1</td>\n",
       "      <td>0</td>\n",
       "      <td>0</td>\n",
       "      <td>0</td>\n",
       "      <td>0</td>\n",
       "      <td>0</td>\n",
       "      <td>1</td>\n",
       "      <td>0</td>\n",
       "      <td>0</td>\n",
       "      <td>0</td>\n",
       "      <td>1</td>\n",
       "      <td>0</td>\n",
       "      <td>0</td>\n",
       "      <td>0</td>\n",
       "      <td>0</td>\n",
       "      <td>0</td>\n",
       "      <td>0</td>\n",
       "      <td>1</td>\n",
       "      <td>0</td>\n",
       "      <td>0</td>\n",
       "      <td>0</td>\n",
       "      <td>1</td>\n",
       "      <td>0</td>\n",
       "      <td>0</td>\n",
       "      <td>1</td>\n",
       "      <td>0</td>\n",
       "      <td>0</td>\n",
       "      <td>0</td>\n",
       "      <td>0</td>\n",
       "    </tr>\n",
       "    <tr>\n",
       "      <th>2</th>\n",
       "      <td>3668-QPYBK</td>\n",
       "      <td>1</td>\n",
       "      <td>0</td>\n",
       "      <td>0</td>\n",
       "      <td>0</td>\n",
       "      <td>2</td>\n",
       "      <td>1</td>\n",
       "      <td>1</td>\n",
       "      <td>53.85</td>\n",
       "      <td>108.15</td>\n",
       "      <td>1</td>\n",
       "      <td>0</td>\n",
       "      <td>0</td>\n",
       "      <td>0</td>\n",
       "      <td>0</td>\n",
       "      <td>36.050000</td>\n",
       "      <td>0</td>\n",
       "      <td>1</td>\n",
       "      <td>0</td>\n",
       "      <td>0</td>\n",
       "      <td>0</td>\n",
       "      <td>0</td>\n",
       "      <td>0</td>\n",
       "      <td>0</td>\n",
       "      <td>1</td>\n",
       "      <td>0</td>\n",
       "      <td>1</td>\n",
       "      <td>0</td>\n",
       "      <td>0</td>\n",
       "      <td>0</td>\n",
       "      <td>0</td>\n",
       "      <td>0</td>\n",
       "      <td>0</td>\n",
       "      <td>0</td>\n",
       "      <td>0</td>\n",
       "      <td>0</td>\n",
       "      <td>0</td>\n",
       "      <td>0</td>\n",
       "      <td>0</td>\n",
       "      <td>1</td>\n",
       "      <td>0</td>\n",
       "      <td>0</td>\n",
       "      <td>1</td>\n",
       "      <td>0</td>\n",
       "      <td>0</td>\n",
       "      <td>0</td>\n",
       "      <td>0</td>\n",
       "    </tr>\n",
       "    <tr>\n",
       "      <th>3</th>\n",
       "      <td>7795-CFOCW</td>\n",
       "      <td>1</td>\n",
       "      <td>0</td>\n",
       "      <td>0</td>\n",
       "      <td>0</td>\n",
       "      <td>45</td>\n",
       "      <td>0</td>\n",
       "      <td>0</td>\n",
       "      <td>42.30</td>\n",
       "      <td>1840.75</td>\n",
       "      <td>0</td>\n",
       "      <td>1</td>\n",
       "      <td>0</td>\n",
       "      <td>0</td>\n",
       "      <td>1</td>\n",
       "      <td>40.016304</td>\n",
       "      <td>0</td>\n",
       "      <td>1</td>\n",
       "      <td>1</td>\n",
       "      <td>1</td>\n",
       "      <td>0</td>\n",
       "      <td>0</td>\n",
       "      <td>0</td>\n",
       "      <td>0</td>\n",
       "      <td>1</td>\n",
       "      <td>0</td>\n",
       "      <td>0</td>\n",
       "      <td>0</td>\n",
       "      <td>1</td>\n",
       "      <td>0</td>\n",
       "      <td>1</td>\n",
       "      <td>0</td>\n",
       "      <td>0</td>\n",
       "      <td>0</td>\n",
       "      <td>0</td>\n",
       "      <td>1</td>\n",
       "      <td>0</td>\n",
       "      <td>0</td>\n",
       "      <td>0</td>\n",
       "      <td>0</td>\n",
       "      <td>0</td>\n",
       "      <td>0</td>\n",
       "      <td>1</td>\n",
       "      <td>0</td>\n",
       "      <td>0</td>\n",
       "      <td>0</td>\n",
       "      <td>0</td>\n",
       "    </tr>\n",
       "    <tr>\n",
       "      <th>4</th>\n",
       "      <td>9237-HQITU</td>\n",
       "      <td>0</td>\n",
       "      <td>0</td>\n",
       "      <td>0</td>\n",
       "      <td>0</td>\n",
       "      <td>2</td>\n",
       "      <td>1</td>\n",
       "      <td>1</td>\n",
       "      <td>70.70</td>\n",
       "      <td>151.65</td>\n",
       "      <td>1</td>\n",
       "      <td>0</td>\n",
       "      <td>0</td>\n",
       "      <td>0</td>\n",
       "      <td>0</td>\n",
       "      <td>50.550000</td>\n",
       "      <td>0</td>\n",
       "      <td>1</td>\n",
       "      <td>0</td>\n",
       "      <td>0</td>\n",
       "      <td>0</td>\n",
       "      <td>1</td>\n",
       "      <td>0</td>\n",
       "      <td>0</td>\n",
       "      <td>0</td>\n",
       "      <td>0</td>\n",
       "      <td>0</td>\n",
       "      <td>0</td>\n",
       "      <td>0</td>\n",
       "      <td>0</td>\n",
       "      <td>0</td>\n",
       "      <td>0</td>\n",
       "      <td>0</td>\n",
       "      <td>0</td>\n",
       "      <td>0</td>\n",
       "      <td>0</td>\n",
       "      <td>0</td>\n",
       "      <td>0</td>\n",
       "      <td>1</td>\n",
       "      <td>0</td>\n",
       "      <td>1</td>\n",
       "      <td>0</td>\n",
       "      <td>0</td>\n",
       "      <td>0</td>\n",
       "      <td>0</td>\n",
       "      <td>0</td>\n",
       "      <td>0</td>\n",
       "    </tr>\n",
       "  </tbody>\n",
       "</table>\n",
       "</div>"
      ],
      "text/plain": [
       "   customerID  gender  SeniorCitizen  Partner  Dependents  tenure  \\\n",
       "0  7590-VHVEG       0              0        1           0       1   \n",
       "1  5575-GNVDE       1              0        0           0      34   \n",
       "2  3668-QPYBK       1              0        0           0       2   \n",
       "3  7795-CFOCW       1              0        0           0      45   \n",
       "4  9237-HQITU       0              0        0           0       2   \n",
       "\n",
       "   PhoneService  PaperlessBilling  MonthlyCharges  TotalCharges  Churn  \\\n",
       "0             0                 1           29.85         29.85      0   \n",
       "1             1                 0           56.95       1889.50      0   \n",
       "2             1                 1           53.85        108.15      1   \n",
       "3             0                 0           42.30       1840.75      0   \n",
       "4             1                 1           70.70        151.65      1   \n",
       "\n",
       "   onePlusYearCustomer  onePlusYearCustomer_MonthlyContract  \\\n",
       "0                    0                                    0   \n",
       "1                    1                                    0   \n",
       "2                    0                                    0   \n",
       "3                    1                                    0   \n",
       "4                    0                                    0   \n",
       "\n",
       "   noInternetService  automaticPayment  avgCharges  anyStreamingService  \\\n",
       "0                  0                 0   14.925000                    0   \n",
       "1                  0                 0   53.985714                    0   \n",
       "2                  0                 0   36.050000                    0   \n",
       "3                  0                 1   40.016304                    0   \n",
       "4                  0                 0   50.550000                    0   \n",
       "\n",
       "   noProtection  onePlusLowTotalC  MultipleLines_No phone service  \\\n",
       "0             1                 0                               1   \n",
       "1             1                 1                               0   \n",
       "2             1                 0                               0   \n",
       "3             1                 1                               1   \n",
       "4             1                 0                               0   \n",
       "\n",
       "   MultipleLines_Yes  InternetService_Fiber optic  InternetService_No  \\\n",
       "0                  0                            0                   0   \n",
       "1                  0                            0                   0   \n",
       "2                  0                            0                   0   \n",
       "3                  0                            0                   0   \n",
       "4                  0                            1                   0   \n",
       "\n",
       "   OnlineSecurity_No internet service  OnlineSecurity_Yes  \\\n",
       "0                                   0                   0   \n",
       "1                                   0                   1   \n",
       "2                                   0                   1   \n",
       "3                                   0                   1   \n",
       "4                                   0                   0   \n",
       "\n",
       "   OnlineBackup_No internet service  OnlineBackup_Yes  \\\n",
       "0                                 0                 1   \n",
       "1                                 0                 0   \n",
       "2                                 0                 1   \n",
       "3                                 0                 0   \n",
       "4                                 0                 0   \n",
       "\n",
       "   DeviceProtection_No internet service  DeviceProtection_Yes  \\\n",
       "0                                     0                     0   \n",
       "1                                     0                     1   \n",
       "2                                     0                     0   \n",
       "3                                     0                     1   \n",
       "4                                     0                     0   \n",
       "\n",
       "   TechSupport_No internet service  TechSupport_Yes  \\\n",
       "0                                0                0   \n",
       "1                                0                0   \n",
       "2                                0                0   \n",
       "3                                0                1   \n",
       "4                                0                0   \n",
       "\n",
       "   StreamingTV_No internet service  StreamingTV_Yes  \\\n",
       "0                                0                0   \n",
       "1                                0                0   \n",
       "2                                0                0   \n",
       "3                                0                0   \n",
       "4                                0                0   \n",
       "\n",
       "   StreamingMovies_No internet service  StreamingMovies_Yes  \\\n",
       "0                                    0                    0   \n",
       "1                                    0                    0   \n",
       "2                                    0                    0   \n",
       "3                                    0                    0   \n",
       "4                                    0                    0   \n",
       "\n",
       "   Contract_One year  Contract_Two year  \\\n",
       "0                  0                  0   \n",
       "1                  1                  0   \n",
       "2                  0                  0   \n",
       "3                  1                  0   \n",
       "4                  0                  0   \n",
       "\n",
       "   PaymentMethod_Credit card (automatic)  PaymentMethod_Electronic check  \\\n",
       "0                                      0                               1   \n",
       "1                                      0                               0   \n",
       "2                                      0                               0   \n",
       "3                                      0                               0   \n",
       "4                                      0                               1   \n",
       "\n",
       "   PaymentMethod_Mailed check  TotalServices_1  TotalServices_2  \\\n",
       "0                           0                1                0   \n",
       "1                           1                0                0   \n",
       "2                           1                0                0   \n",
       "3                           0                0                0   \n",
       "4                           0                1                0   \n",
       "\n",
       "   TotalServices_3  TotalServices_4  TotalServices_5  TotalServices_6  \\\n",
       "0                0                0                0                0   \n",
       "1                1                0                0                0   \n",
       "2                1                0                0                0   \n",
       "3                1                0                0                0   \n",
       "4                0                0                0                0   \n",
       "\n",
       "   TotalServices_7  \n",
       "0                0  \n",
       "1                0  \n",
       "2                0  \n",
       "3                0  \n",
       "4                0  "
      ]
     },
     "execution_count": 63,
     "metadata": {},
     "output_type": "execute_result"
    }
   ],
   "source": [
    "df.head()"
   ]
  },
  {
   "cell_type": "markdown",
   "metadata": {
    "papermill": {
     "duration": 0.039232,
     "end_time": "2022-11-30T09:14:24.889354",
     "exception": false,
     "start_time": "2022-11-30T09:14:24.850122",
     "status": "completed"
    },
    "tags": []
   },
   "source": [
    "# Feature Scaling"
   ]
  },
  {
   "cell_type": "markdown",
   "metadata": {
    "papermill": {
     "duration": 0.037875,
     "end_time": "2022-11-30T09:14:24.965393",
     "exception": false,
     "start_time": "2022-11-30T09:14:24.927518",
     "status": "completed"
    },
    "tags": []
   },
   "source": [
    "Standardization will be done for numerical variables using RobustScaler."
   ]
  },
  {
   "cell_type": "code",
   "execution_count": 64,
   "metadata": {
    "execution": {
     "iopub.execute_input": "2022-11-30T09:14:25.044967Z",
     "iopub.status.busy": "2022-11-30T09:14:25.044280Z",
     "iopub.status.idle": "2022-11-30T09:14:25.072133Z",
     "shell.execute_reply": "2022-11-30T09:14:25.070215Z"
    },
    "papermill": {
     "duration": 0.071763,
     "end_time": "2022-11-30T09:14:25.075050",
     "exception": false,
     "start_time": "2022-11-30T09:14:25.003287",
     "status": "completed"
    },
    "tags": []
   },
   "outputs": [
    {
     "name": "stdout",
     "output_type": "stream",
     "text": [
      "Observations: 7043\n",
      "Variables: 47\n",
      "cat_cols: 42\n",
      "num_cols: 4\n",
      "cat_but_car: 1\n",
      "num_but_cat: 42\n"
     ]
    },
    {
     "data": {
      "text/plain": [
       "['tenure', 'MonthlyCharges', 'TotalCharges', 'avgCharges']"
      ]
     },
     "execution_count": 64,
     "metadata": {},
     "output_type": "execute_result"
    }
   ],
   "source": [
    "cat_cols, num_cols, cat_but_car = grab_col_names(df)\n",
    "\n",
    "num_cols"
   ]
  },
  {
   "cell_type": "code",
   "execution_count": 65,
   "metadata": {
    "execution": {
     "iopub.execute_input": "2022-11-30T09:14:25.156190Z",
     "iopub.status.busy": "2022-11-30T09:14:25.155482Z",
     "iopub.status.idle": "2022-11-30T09:14:25.170005Z",
     "shell.execute_reply": "2022-11-30T09:14:25.168659Z"
    },
    "papermill": {
     "duration": 0.057321,
     "end_time": "2022-11-30T09:14:25.172697",
     "exception": false,
     "start_time": "2022-11-30T09:14:25.115376",
     "status": "completed"
    },
    "tags": []
   },
   "outputs": [
    {
     "data": {
      "text/html": [
       "<div>\n",
       "<style scoped>\n",
       "    .dataframe tbody tr th:only-of-type {\n",
       "        vertical-align: middle;\n",
       "    }\n",
       "\n",
       "    .dataframe tbody tr th {\n",
       "        vertical-align: top;\n",
       "    }\n",
       "\n",
       "    .dataframe thead th {\n",
       "        text-align: right;\n",
       "    }\n",
       "</style>\n",
       "<table border=\"1\" class=\"dataframe\">\n",
       "  <thead>\n",
       "    <tr style=\"text-align: right;\">\n",
       "      <th></th>\n",
       "      <th>tenure</th>\n",
       "      <th>MonthlyCharges</th>\n",
       "      <th>TotalCharges</th>\n",
       "      <th>avgCharges</th>\n",
       "    </tr>\n",
       "  </thead>\n",
       "  <tbody>\n",
       "    <tr>\n",
       "      <th>0</th>\n",
       "      <td>1</td>\n",
       "      <td>29.85</td>\n",
       "      <td>29.85</td>\n",
       "      <td>14.925000</td>\n",
       "    </tr>\n",
       "    <tr>\n",
       "      <th>1</th>\n",
       "      <td>34</td>\n",
       "      <td>56.95</td>\n",
       "      <td>1889.50</td>\n",
       "      <td>53.985714</td>\n",
       "    </tr>\n",
       "    <tr>\n",
       "      <th>2</th>\n",
       "      <td>2</td>\n",
       "      <td>53.85</td>\n",
       "      <td>108.15</td>\n",
       "      <td>36.050000</td>\n",
       "    </tr>\n",
       "    <tr>\n",
       "      <th>3</th>\n",
       "      <td>45</td>\n",
       "      <td>42.30</td>\n",
       "      <td>1840.75</td>\n",
       "      <td>40.016304</td>\n",
       "    </tr>\n",
       "    <tr>\n",
       "      <th>4</th>\n",
       "      <td>2</td>\n",
       "      <td>70.70</td>\n",
       "      <td>151.65</td>\n",
       "      <td>50.550000</td>\n",
       "    </tr>\n",
       "  </tbody>\n",
       "</table>\n",
       "</div>"
      ],
      "text/plain": [
       "   tenure  MonthlyCharges  TotalCharges  avgCharges\n",
       "0       1           29.85         29.85   14.925000\n",
       "1      34           56.95       1889.50   53.985714\n",
       "2       2           53.85        108.15   36.050000\n",
       "3      45           42.30       1840.75   40.016304\n",
       "4       2           70.70        151.65   50.550000"
      ]
     },
     "execution_count": 65,
     "metadata": {},
     "output_type": "execute_result"
    }
   ],
   "source": [
    "df[num_cols].head()"
   ]
  },
  {
   "cell_type": "code",
   "execution_count": 66,
   "metadata": {
    "execution": {
     "iopub.execute_input": "2022-11-30T09:14:25.250364Z",
     "iopub.status.busy": "2022-11-30T09:14:25.249553Z",
     "iopub.status.idle": "2022-11-30T09:14:25.262698Z",
     "shell.execute_reply": "2022-11-30T09:14:25.261659Z"
    },
    "papermill": {
     "duration": 0.054867,
     "end_time": "2022-11-30T09:14:25.265350",
     "exception": false,
     "start_time": "2022-11-30T09:14:25.210483",
     "status": "completed"
    },
    "tags": []
   },
   "outputs": [],
   "source": [
    "scaler = RobustScaler()\n",
    "\n",
    "df[num_cols] = scaler.fit_transform(df[num_cols])"
   ]
  },
  {
   "cell_type": "code",
   "execution_count": 67,
   "metadata": {
    "execution": {
     "iopub.execute_input": "2022-11-30T09:14:25.342979Z",
     "iopub.status.busy": "2022-11-30T09:14:25.342184Z",
     "iopub.status.idle": "2022-11-30T09:14:25.355868Z",
     "shell.execute_reply": "2022-11-30T09:14:25.354613Z"
    },
    "papermill": {
     "duration": 0.055563,
     "end_time": "2022-11-30T09:14:25.358606",
     "exception": false,
     "start_time": "2022-11-30T09:14:25.303043",
     "status": "completed"
    },
    "tags": []
   },
   "outputs": [
    {
     "data": {
      "text/html": [
       "<div>\n",
       "<style scoped>\n",
       "    .dataframe tbody tr th:only-of-type {\n",
       "        vertical-align: middle;\n",
       "    }\n",
       "\n",
       "    .dataframe tbody tr th {\n",
       "        vertical-align: top;\n",
       "    }\n",
       "\n",
       "    .dataframe thead th {\n",
       "        text-align: right;\n",
       "    }\n",
       "</style>\n",
       "<table border=\"1\" class=\"dataframe\">\n",
       "  <thead>\n",
       "    <tr style=\"text-align: right;\">\n",
       "      <th></th>\n",
       "      <th>tenure</th>\n",
       "      <th>MonthlyCharges</th>\n",
       "      <th>TotalCharges</th>\n",
       "      <th>avgCharges</th>\n",
       "    </tr>\n",
       "  </thead>\n",
       "  <tbody>\n",
       "    <tr>\n",
       "      <th>0</th>\n",
       "      <td>-0.608696</td>\n",
       "      <td>-0.745170</td>\n",
       "      <td>-0.402798</td>\n",
       "      <td>-0.785947</td>\n",
       "    </tr>\n",
       "    <tr>\n",
       "      <th>1</th>\n",
       "      <td>0.108696</td>\n",
       "      <td>-0.246550</td>\n",
       "      <td>0.146087</td>\n",
       "      <td>-0.120011</td>\n",
       "    </tr>\n",
       "    <tr>\n",
       "      <th>2</th>\n",
       "      <td>-0.586957</td>\n",
       "      <td>-0.303588</td>\n",
       "      <td>-0.379687</td>\n",
       "      <td>-0.425792</td>\n",
       "    </tr>\n",
       "    <tr>\n",
       "      <th>3</th>\n",
       "      <td>0.347826</td>\n",
       "      <td>-0.516099</td>\n",
       "      <td>0.131698</td>\n",
       "      <td>-0.358172</td>\n",
       "    </tr>\n",
       "    <tr>\n",
       "      <th>4</th>\n",
       "      <td>-0.586957</td>\n",
       "      <td>0.006440</td>\n",
       "      <td>-0.366848</td>\n",
       "      <td>-0.178586</td>\n",
       "    </tr>\n",
       "  </tbody>\n",
       "</table>\n",
       "</div>"
      ],
      "text/plain": [
       "     tenure  MonthlyCharges  TotalCharges  avgCharges\n",
       "0 -0.608696       -0.745170     -0.402798   -0.785947\n",
       "1  0.108696       -0.246550      0.146087   -0.120011\n",
       "2 -0.586957       -0.303588     -0.379687   -0.425792\n",
       "3  0.347826       -0.516099      0.131698   -0.358172\n",
       "4 -0.586957        0.006440     -0.366848   -0.178586"
      ]
     },
     "execution_count": 67,
     "metadata": {},
     "output_type": "execute_result"
    }
   ],
   "source": [
    "df[num_cols].head()"
   ]
  },
  {
   "cell_type": "markdown",
   "metadata": {
    "papermill": {
     "duration": 0.037546,
     "end_time": "2022-11-30T09:14:25.434738",
     "exception": false,
     "start_time": "2022-11-30T09:14:25.397192",
     "status": "completed"
    },
    "tags": []
   },
   "source": [
    "#  Model"
   ]
  },
  {
   "cell_type": "markdown",
   "metadata": {
    "papermill": {
     "duration": 0.039504,
     "end_time": "2022-11-30T09:14:25.512718",
     "exception": false,
     "start_time": "2022-11-30T09:14:25.473214",
     "status": "completed"
    },
    "tags": []
   },
   "source": [
    "In this section, model building will be done. Our dependent and independent variables were determined, and then the data were split into train and test. After the model was fitted, the prediction process was performed and the accuracy score was obtained by comparing it with the test data."
   ]
  },
  {
   "cell_type": "code",
   "execution_count": 68,
   "metadata": {
    "execution": {
     "iopub.execute_input": "2022-11-30T09:14:25.590550Z",
     "iopub.status.busy": "2022-11-30T09:14:25.590158Z",
     "iopub.status.idle": "2022-11-30T09:14:25.597749Z",
     "shell.execute_reply": "2022-11-30T09:14:25.596601Z"
    },
    "papermill": {
     "duration": 0.050349,
     "end_time": "2022-11-30T09:14:25.600527",
     "exception": false,
     "start_time": "2022-11-30T09:14:25.550178",
     "status": "completed"
    },
    "tags": []
   },
   "outputs": [],
   "source": [
    "y = df[\"Churn\"]\n",
    "\n",
    "x = df.drop([\"Churn\", \"customerID\"], axis=1)"
   ]
  },
  {
   "cell_type": "code",
   "execution_count": 69,
   "metadata": {
    "execution": {
     "iopub.execute_input": "2022-11-30T09:14:25.679019Z",
     "iopub.status.busy": "2022-11-30T09:14:25.678368Z",
     "iopub.status.idle": "2022-11-30T09:14:25.688682Z",
     "shell.execute_reply": "2022-11-30T09:14:25.687505Z"
    },
    "papermill": {
     "duration": 0.052744,
     "end_time": "2022-11-30T09:14:25.691470",
     "exception": false,
     "start_time": "2022-11-30T09:14:25.638726",
     "status": "completed"
    },
    "tags": []
   },
   "outputs": [],
   "source": [
    "x_train, x_test, y_train, y_test = train_test_split(x, y, test_size=0.30, random_state=17)"
   ]
  },
  {
   "cell_type": "code",
   "execution_count": 70,
   "metadata": {
    "execution": {
     "iopub.execute_input": "2022-11-30T09:14:25.769356Z",
     "iopub.status.busy": "2022-11-30T09:14:25.768735Z",
     "iopub.status.idle": "2022-11-30T09:14:26.478367Z",
     "shell.execute_reply": "2022-11-30T09:14:26.477377Z"
    },
    "papermill": {
     "duration": 0.751984,
     "end_time": "2022-11-30T09:14:26.481238",
     "exception": false,
     "start_time": "2022-11-30T09:14:25.729254",
     "status": "completed"
    },
    "tags": []
   },
   "outputs": [],
   "source": [
    "rf_model = RandomForestClassifier(random_state=46).fit(x_train, y_train)"
   ]
  },
  {
   "cell_type": "code",
   "execution_count": 71,
   "metadata": {
    "execution": {
     "iopub.execute_input": "2022-11-30T09:14:26.568293Z",
     "iopub.status.busy": "2022-11-30T09:14:26.566951Z",
     "iopub.status.idle": "2022-11-30T09:14:26.637806Z",
     "shell.execute_reply": "2022-11-30T09:14:26.636753Z"
    },
    "papermill": {
     "duration": 0.120097,
     "end_time": "2022-11-30T09:14:26.640379",
     "exception": false,
     "start_time": "2022-11-30T09:14:26.520282",
     "status": "completed"
    },
    "tags": []
   },
   "outputs": [],
   "source": [
    "y_pred = rf_model.predict(x_test)"
   ]
  },
  {
   "cell_type": "code",
   "execution_count": 72,
   "metadata": {
    "execution": {
     "iopub.execute_input": "2022-11-30T09:14:26.724987Z",
     "iopub.status.busy": "2022-11-30T09:14:26.724198Z",
     "iopub.status.idle": "2022-11-30T09:14:26.732209Z",
     "shell.execute_reply": "2022-11-30T09:14:26.731031Z"
    },
    "papermill": {
     "duration": 0.055473,
     "end_time": "2022-11-30T09:14:26.734546",
     "exception": false,
     "start_time": "2022-11-30T09:14:26.679073",
     "status": "completed"
    },
    "tags": []
   },
   "outputs": [
    {
     "name": "stdout",
     "output_type": "stream",
     "text": [
      "Accuracy Score:  0.7860861334595362\n"
     ]
    }
   ],
   "source": [
    "accuracy_score(y_pred, y_test)\n",
    "\n",
    "print(\"Accuracy Score: \", accuracy_score(y_pred, y_test))"
   ]
  },
  {
   "cell_type": "code",
   "execution_count": 73,
   "metadata": {
    "execution": {
     "iopub.execute_input": "2022-11-30T09:14:26.812633Z",
     "iopub.status.busy": "2022-11-30T09:14:26.811889Z",
     "iopub.status.idle": "2022-11-30T09:14:26.819441Z",
     "shell.execute_reply": "2022-11-30T09:14:26.818107Z"
    },
    "papermill": {
     "duration": 0.049984,
     "end_time": "2022-11-30T09:14:26.822278",
     "exception": false,
     "start_time": "2022-11-30T09:14:26.772294",
     "status": "completed"
    },
    "tags": []
   },
   "outputs": [],
   "source": [
    "def plot_importance(model, features, num=len(x)):\n",
    "    feature_imp = pd.DataFrame({'Value': model.feature_importances_, 'Feature': features.columns})\n",
    "    plt.figure(figsize=(10, 10))\n",
    "    sns.set(font_scale=1)\n",
    "    sns.barplot(x=\"Value\", y=\"Feature\", data=feature_imp.sort_values(by=\"Value\",\n",
    "                                                                      ascending=False)[0:num])\n",
    "    plt.title('Features')\n",
    "    plt.tight_layout()\n",
    "    plt.show()"
   ]
  },
  {
   "cell_type": "code",
   "execution_count": 74,
   "metadata": {
    "execution": {
     "iopub.execute_input": "2022-11-30T09:14:26.902893Z",
     "iopub.status.busy": "2022-11-30T09:14:26.902467Z",
     "iopub.status.idle": "2022-11-30T09:14:27.822504Z",
     "shell.execute_reply": "2022-11-30T09:14:27.820520Z"
    },
    "papermill": {
     "duration": 0.96345,
     "end_time": "2022-11-30T09:14:27.825500",
     "exception": false,
     "start_time": "2022-11-30T09:14:26.862050",
     "status": "completed"
    },
    "tags": []
   },
   "outputs": [
    {
     "data": {
      "image/png": "[encoded data removed]",
      "text/plain": [
       "<Figure size 720x720 with 1 Axes>"
      ]
     },
     "metadata": {
      "needs_background": "light"
     },
     "output_type": "display_data"
    }
   ],
   "source": [
    "plot_importance(rf_model, x_train)"
   ]
  }
 ],
 "metadata": {
  "kernelspec": {
   "display_name": "Python 3",
   "language": "python",
   "name": "python3"
  },
  "language_info": {
   "codemirror_mode": {
    "name": "ipython",
    "version": 3
   },
   "file_extension": ".py",
   "mimetype": "text/x-python",
   "name": "python",
   "nbconvert_exporter": "python",
   "pygments_lexer": "ipython3",
   "version": "3.7.6"
  },
  "papermill": {
   "default_parameters": {},
   "duration": 28.954019,
   "end_time": "2022-11-30T09:14:28.691956",
   "environment_variables": {},
   "exception": null,
   "input_path": "__notebook__.ipynb",
   "output_path": "__notebook__.ipynb",
   "parameters": {},
   "start_time": "2022-11-30T09:13:59.737937",
   "version": "2.3.4"
  }
 },
 "nbformat": 4,
 "nbformat_minor": 5
}
